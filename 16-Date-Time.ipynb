{
 "cells": [
  {
   "cell_type": "markdown",
   "metadata": {},
   "source": [
    "# Datetime\n",
    "\n",
    "The **Dates** module provides a **Date** type for day precision, and **Datetime** type for millisecond precision.\n",
    "\n",
    "Dates are created with the **Date()** constructor:"
   ]
  },
  {
   "cell_type": "code",
   "execution_count": 1,
   "metadata": {},
   "outputs": [
    {
     "name": "stdout",
     "output_type": "stream",
     "text": [
      "Date:   d1 is 2015-01-01   d2 is 2015-03-01   d3 is 2016-06-26\n"
     ]
    }
   ],
   "source": [
    "using Dates\n",
    "\n",
    "d1 = Date(2015)\n",
    "d2 = Date(2015, 3)\n",
    "d3 = Date(2016, 6, 26)\n",
    "println(\"$(typeof(d1)):   d1 is $d1   d2 is $d2   d3 is $d3\")"
   ]
  },
  {
   "cell_type": "markdown",
   "metadata": {},
   "source": [
    "Parts of the date are accessed:"
   ]
  },
  {
   "cell_type": "code",
   "execution_count": 43,
   "metadata": {},
   "outputs": [
    {
     "name": "stdout",
     "output_type": "stream",
     "text": [
      "2016-06-26:  year is 2016 (leap year)   month is 6   day is 26\n",
      "2016-06-26:  week number is 25   weekday is 7 Sunday"
     ]
    }
   ],
   "source": [
    "println(\"$d3:  year is $(year(d3)) $(isleapyear(d3) ? \"(leap year)\" : \"\")   month is $(month(d3))   day is $(day(d3))\")\n",
    "print(\"$d3:  week number is $(week(d3))   weekday is $(dayofweek(d3)) $(dayname(d3))\")"
   ]
  },
  {
   "cell_type": "markdown",
   "metadata": {},
   "source": [
    "Days between Dates are obtained by subtraction:"
   ]
  },
  {
   "cell_type": "code",
   "execution_count": 18,
   "metadata": {},
   "outputs": [
    {
     "name": "stdout",
     "output_type": "stream",
     "text": [
      "Day:   g1 is 31 days   g2 is 30 days\n"
     ]
    }
   ],
   "source": [
    "g1 = d2 - d1\n",
    "g2 = d3 - d2\n",
    "println(\"$(typeof(g1)):   g1 is $g1   g2 is $g2\")"
   ]
  },
  {
   "cell_type": "markdown",
   "metadata": {},
   "source": [
    "A Date can be shifted by:"
   ]
  },
  {
   "cell_type": "code",
   "execution_count": 45,
   "metadata": {},
   "outputs": [
    {
     "name": "stdout",
     "output_type": "stream",
     "text": [
      "2019-10-05\n"
     ]
    }
   ],
   "source": [
    "d4 = d3 + Day(40) + Month(2) + Year(3)\n",
    "println(d4)"
   ]
  },
  {
   "cell_type": "code",
   "execution_count": null,
   "metadata": {},
   "outputs": [],
   "source": []
  }
 ],
 "metadata": {
  "kernelspec": {
   "display_name": "Julia 1.4.0",
   "language": "julia",
   "name": "julia-1.4"
  },
  "language_info": {
   "file_extension": ".jl",
   "mimetype": "application/julia",
   "name": "julia",
   "version": "1.4.0"
  }
 },
 "nbformat": 4,
 "nbformat_minor": 4
}
