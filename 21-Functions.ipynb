{
 "cells": [
  {
   "cell_type": "markdown",
   "metadata": {},
   "source": [
    "# Functions\n",
    "\n",
    "A function is an object that maps a tuple of arguments to a return value.\n",
    "Each function performs a well defined operation by encapsulating a set of implementation logic, it can be used whenever needed.\n",
    "Julia encourages the building of libraries of functions, you would compose them together to create solutions to problems.\n",
    "In general, Julia programs are modular with high code reuse, it is rare to see large monolithic code in Julia.\n",
    "\n",
    "There are three forms of function definition:\n",
    "\n",
    "- `function` and `end` block\n",
    "- assignment form `=`\n",
    "- anonymous function `->`"
   ]
  },
  {
   "cell_type": "markdown",
   "metadata": {},
   "source": [
    "## Function definition\n",
    "\n",
    "`function` and `end` block is the most commonly used style, here's an example:"
   ]
  },
  {
   "cell_type": "code",
   "execution_count": 1,
   "metadata": {},
   "outputs": [
    {
     "data": {
      "text/plain": [
       "foo (generic function with 1 method)"
      ]
     },
     "execution_count": 1,
     "metadata": {},
     "output_type": "execute_result"
    }
   ],
   "source": [
    "function foo(x)         # specifies its parameters or signature, associates with name \"foo\"\n",
    "    2 * x               # function body\n",
    "end                     # end of function"
   ]
  },
  {
   "cell_type": "markdown",
   "metadata": {},
   "source": [
    "The function definition proceeds as follows:\n",
    "\n",
    "- `function` keyword begins a function definition, it is followed by a name which is bound to the function object, followed by a tuple of parameters, also known as a *signature*\n",
    "- following statements are the function body\n",
    "- an `end` statement terminates function definition\n",
    "- result of the last evaluated expression is returned; if it doesn't return anything, it returns `nothing`\n",
    "- `return` statement can terminate function execution and optionally return a value\n",
    "\n",
    "The function name is just a symbol in the namespace that is bound to the function object.\n",
    "You can assign multiple names to a function object."
   ]
  },
  {
   "cell_type": "markdown",
   "metadata": {},
   "source": [
    "## Assignment form\n",
    "\n",
    "For simple one line functions, Julia has a form that resembles a mathematical equation:"
   ]
  },
  {
   "cell_type": "code",
   "execution_count": 2,
   "metadata": {},
   "outputs": [
    {
     "data": {
      "text/plain": [
       "foo (generic function with 1 method)"
      ]
     },
     "execution_count": 2,
     "metadata": {},
     "output_type": "execute_result"
    }
   ],
   "source": [
    "foo(x) = 2x"
   ]
  },
  {
   "cell_type": "markdown",
   "metadata": {},
   "source": [
    "This form eliminates visual clutter giving cleaner code. It is used often for equations."
   ]
  },
  {
   "cell_type": "markdown",
   "metadata": {},
   "source": [
    "## Anonymous Function\n",
    "\n",
    "Sometimes you don't need to bind a name to the function object, the function object is then nameless or anonymous.\n",
    "To create an anonymous function, remove the name from the assignment form and replace = with `->`:"
   ]
  },
  {
   "cell_type": "code",
   "execution_count": 3,
   "metadata": {},
   "outputs": [
    {
     "data": {
      "text/plain": [
       "#3 (generic function with 1 method)"
      ]
     },
     "execution_count": 3,
     "metadata": {},
     "output_type": "execute_result"
    }
   ],
   "source": [
    "x -> 2x            # use ->, otherwise it looks like an assignment statement"
   ]
  },
  {
   "cell_type": "markdown",
   "metadata": {},
   "source": [
    "If the anonymous function takes multiple arguments, surround parameters with parenthesis:"
   ]
  },
  {
   "cell_type": "code",
   "execution_count": 4,
   "metadata": {},
   "outputs": [
    {
     "data": {
      "text/plain": [
       "#5 (generic function with 1 method)"
      ]
     },
     "execution_count": 4,
     "metadata": {},
     "output_type": "execute_result"
    }
   ],
   "source": [
    "(x, y) -> x + y"
   ]
  },
  {
   "cell_type": "markdown",
   "metadata": {},
   "source": [
    "They are useful where a function is needed but you have no further need for that function and don't want to clutter up the namespace.\n",
    "For example, the `map` function can apply a scalar function over an ordered collection, you can square an array with:"
   ]
  },
  {
   "cell_type": "code",
   "execution_count": 5,
   "metadata": {},
   "outputs": [
    {
     "data": {
      "text/plain": [
       "5-element Array{Int64,1}:\n",
       "  1\n",
       "  4\n",
       "  9\n",
       " 16\n",
       " 25"
      ]
     },
     "execution_count": 5,
     "metadata": {},
     "output_type": "execute_result"
    }
   ],
   "source": [
    "map(x -> x^2, 1:5)"
   ]
  },
  {
   "cell_type": "markdown",
   "metadata": {},
   "source": [
    "The `sum` function can apply a function to an iterator, e.g., sum of absolute value of a vector:"
   ]
  },
  {
   "cell_type": "code",
   "execution_count": 6,
   "metadata": {},
   "outputs": [
    {
     "data": {
      "text/plain": [
       "8"
      ]
     },
     "execution_count": 6,
     "metadata": {},
     "output_type": "execute_result"
    }
   ],
   "source": [
    "sum(abs, [-3, -2, -1, 2])"
   ]
  },
  {
   "cell_type": "markdown",
   "metadata": {},
   "source": [
    "## Operators Are Functions\n",
    "\n",
    "In Julia, all operators are functions calls with syntax sugar.\n",
    "The expression\n",
    "\n",
    "```\n",
    "1 + 2 + 3 + 4\n",
    "```\n",
    "\n",
    "is identical to\n",
    "\n",
    "```\n",
    "+(1, 2, 3, 4)\n",
    "```\n",
    "\n",
    "In fact, the infix form is parsed into the function form internally.\n",
    "\n",
    "All of the built-in operators can be assigned to names and used:"
   ]
  },
  {
   "cell_type": "code",
   "execution_count": 7,
   "metadata": {},
   "outputs": [
    {
     "data": {
      "text/plain": [
       "10"
      ]
     },
     "execution_count": 7,
     "metadata": {},
     "output_type": "execute_result"
    }
   ],
   "source": [
    "func = + \n",
    "func(1, 2, 3, 4)"
   ]
  },
  {
   "cell_type": "markdown",
   "metadata": {},
   "source": [
    "## Parameter List\n",
    "\n",
    "Function definition specifies a **parameter list** or a *signature* that are placeholders to receive the actual **argument list** when the function is called.\n",
    "The form and relationship between the parameter list and the argument list is as follows:\n",
    "\n",
    "Parameter list | Argument list\n",
    "---------------|-------------------------------\n",
    "1. positional parameters: comma separated **name** | match **value** to parameters by position\n",
    "2. optional parameters: comma separated **name=default** | match **value** to parameters by position, if absent then parameter takes on default\n",
    "3. single varargs parameter: **varargs...** | **extra positional values** are collected into a **tuple** and passed as the value of varargs\n",
    "4. a single **semi-colon** to designate the beginning of keyword arguments | matching is by name, order doesn't matter, use comma to separate arguments as usual on function call\n",
    "5. keyword parameters:  comma separated **name** or **name=default** | keyword parameter without default must be supplied as **name=value**\n",
    "6. single kwargs parameter: **kwargs...** | **extra keyword values** are collected into a **named tuple iterator** and pass as the value of kwargs"
   ]
  },
  {
   "cell_type": "markdown",
   "metadata": {},
   "source": [
    "### Positional parameters\n",
    "\n",
    "Positional parameters come first on the parameter list, they are a sequence of comma separated names.\n",
    "At function call, the argument list is matched by position to the parameter list.\n",
    "The correct number of positional parameters must be supplied otherwise the function call will fail with **MethodError**."
   ]
  },
  {
   "cell_type": "code",
   "execution_count": 8,
   "metadata": {},
   "outputs": [
    {
     "data": {
      "text/plain": [
       "p (generic function with 1 method)"
      ]
     },
     "execution_count": 8,
     "metadata": {},
     "output_type": "execute_result"
    }
   ],
   "source": [
    "function p(a, b)\n",
    "    println(\"p <$a> <$b>\")\n",
    "end"
   ]
  },
  {
   "cell_type": "code",
   "execution_count": 9,
   "metadata": {},
   "outputs": [
    {
     "name": "stdout",
     "output_type": "stream",
     "text": [
      "p <abc> <[1, 2, 3]>\n"
     ]
    }
   ],
   "source": [
    "p(\"abc\", [1, 2, 3])            # pass in string and vector"
   ]
  },
  {
   "cell_type": "code",
   "execution_count": 10,
   "metadata": {},
   "outputs": [
    {
     "ename": "MethodError",
     "evalue": "MethodError: no method matching p(::Int64)\nClosest candidates are:\n  p(::Any, !Matched::Any) at In[8]:2",
     "output_type": "error",
     "traceback": [
      "MethodError: no method matching p(::Int64)\nClosest candidates are:\n  p(::Any, !Matched::Any) at In[8]:2",
      "",
      "Stacktrace:",
      " [1] top-level scope at In[10]:1"
     ]
    }
   ],
   "source": [
    "p(1)                           # too few positional arguments"
   ]
  },
  {
   "cell_type": "code",
   "execution_count": 11,
   "metadata": {},
   "outputs": [
    {
     "ename": "MethodError",
     "evalue": "MethodError: no method matching p(::Int64, ::Int64, ::Int64)\nClosest candidates are:\n  p(::Any, ::Any) at In[8]:2",
     "output_type": "error",
     "traceback": [
      "MethodError: no method matching p(::Int64, ::Int64, ::Int64)\nClosest candidates are:\n  p(::Any, ::Any) at In[8]:2",
      "",
      "Stacktrace:",
      " [1] top-level scope at In[11]:1"
     ]
    }
   ],
   "source": [
    "p(1, 2, 3)                     # too many positional arguments"
   ]
  },
  {
   "cell_type": "markdown",
   "metadata": {},
   "source": [
    "### Optional parameters\n",
    "\n",
    "Optional parameters are positional parameters with a default value, they must come after positional parameters on the parameter list.\n",
    "Because they have default values, they don't need to be supplied when calling the function."
   ]
  },
  {
   "cell_type": "code",
   "execution_count": 12,
   "metadata": {},
   "outputs": [
    {
     "data": {
      "text/plain": [
       "po (generic function with 2 methods)"
      ]
     },
     "execution_count": 12,
     "metadata": {},
     "output_type": "execute_result"
    }
   ],
   "source": [
    "function po(a, b=2)                       # positional followed by optional\n",
    "    println(\"po <$a> <$b>\")\n",
    "end    "
   ]
  },
  {
   "cell_type": "code",
   "execution_count": 13,
   "metadata": {},
   "outputs": [
    {
     "name": "stdout",
     "output_type": "stream",
     "text": [
      "po <1> <2>\n"
     ]
    }
   ],
   "source": [
    "po(1)"
   ]
  },
  {
   "cell_type": "code",
   "execution_count": 14,
   "metadata": {},
   "outputs": [
    {
     "name": "stdout",
     "output_type": "stream",
     "text": [
      "po <abc> <[1, 2, 3]>\n"
     ]
    }
   ],
   "source": [
    "po(\"abc\", [1, 2, 3])            # pass in string and vector"
   ]
  },
  {
   "cell_type": "markdown",
   "metadata": {},
   "source": [
    "### Varargs\n",
    "\n",
    "A varargs parameter can appear after optional pameters, it is specified as `varargs...`.\n",
    "At function call, all extra positional parameters are collected into a tuple and passed as varargs."
   ]
  },
  {
   "cell_type": "code",
   "execution_count": 15,
   "metadata": {},
   "outputs": [
    {
     "data": {
      "text/plain": [
       "pov (generic function with 2 methods)"
      ]
     },
     "execution_count": 15,
     "metadata": {},
     "output_type": "execute_result"
    }
   ],
   "source": [
    "function pov(a, b=2, v...)                       # positional, optional, varargs\n",
    "    println(\"pov <$a> <$b> <$v>\")\n",
    "end    "
   ]
  },
  {
   "cell_type": "code",
   "execution_count": 16,
   "metadata": {},
   "outputs": [
    {
     "name": "stdout",
     "output_type": "stream",
     "text": [
      "pov <1> <2> <()>\n"
     ]
    }
   ],
   "source": [
    "pov(1)"
   ]
  },
  {
   "cell_type": "code",
   "execution_count": 17,
   "metadata": {},
   "outputs": [
    {
     "name": "stdout",
     "output_type": "stream",
     "text": [
      "pov <abc> <[1, 2, 3]> <()>\n"
     ]
    }
   ],
   "source": [
    "pov(\"abc\", [1, 2, 3])"
   ]
  },
  {
   "cell_type": "code",
   "execution_count": 18,
   "metadata": {},
   "outputs": [
    {
     "name": "stdout",
     "output_type": "stream",
     "text": [
      "pov <abc> <[1, 2, 3]> <(4, 5, 6)>\n"
     ]
    }
   ],
   "source": [
    "pov(\"abc\", [1, 2, 3], 4, 5, 6)"
   ]
  },
  {
   "cell_type": "markdown",
   "metadata": {},
   "source": [
    "### Keyword parameters\n",
    "\n",
    "Positional parameters require you to remember their sequence and supply arguments correctly.\n",
    "For simple functions with one or two parameters this is OK, but it quickly becomes impractical when there are a large number of parameters.\n",
    "Supplying arguments by name serves two purposes:\n",
    "\n",
    "- The call is easy to read and understand since parameter name provide the argument with meaning\n",
    "- It also possible to pass any subset of a large number of arguments in any order that makes sense to you\n",
    "\n",
    "Julia uses a `;` to separate the positional parameters from the keyword parameters on the parameter list.\n",
    "They keyword parameter can have a default value if you like.\n",
    "At function call, all keyword parameter must resolve to some value, thus the keyword parameters without defaults must be supplied with a run-time argument."
   ]
  },
  {
   "cell_type": "code",
   "execution_count": 19,
   "metadata": {},
   "outputs": [
    {
     "data": {
      "text/plain": [
       "povk (generic function with 2 methods)"
      ]
     },
     "execution_count": 19,
     "metadata": {},
     "output_type": "execute_result"
    }
   ],
   "source": [
    "function povk(a, b=2, v...; k1=11, k2=12)               # positional, optional, varargs; keyword\n",
    "    println(\"povk <$a> <$b> <$v> <$k1> <$k2>\")\n",
    "end   "
   ]
  },
  {
   "cell_type": "code",
   "execution_count": 20,
   "metadata": {},
   "outputs": [
    {
     "name": "stdout",
     "output_type": "stream",
     "text": [
      "povk <1> <2> <()> <11> <12>\n"
     ]
    }
   ],
   "source": [
    "povk(1)"
   ]
  },
  {
   "cell_type": "code",
   "execution_count": 21,
   "metadata": {},
   "outputs": [
    {
     "name": "stdout",
     "output_type": "stream",
     "text": [
      "povk <abc> <[1, 2, 3]> <()> <11> <12>\n"
     ]
    }
   ],
   "source": [
    "povk(\"abc\", [1, 2, 3])"
   ]
  },
  {
   "cell_type": "code",
   "execution_count": 22,
   "metadata": {},
   "outputs": [
    {
     "name": "stdout",
     "output_type": "stream",
     "text": [
      "povk <abc> <[1, 2, 3]> <(4, 5, 6)> <11> <12>\n"
     ]
    }
   ],
   "source": [
    "povk(\"abc\", [1, 2, 3], 4, 5, 6)"
   ]
  },
  {
   "cell_type": "code",
   "execution_count": 23,
   "metadata": {},
   "outputs": [
    {
     "name": "stdout",
     "output_type": "stream",
     "text": [
      "povk <abc> <[1, 2, 3]> <(4, 5, 6)> <31> <12>\n"
     ]
    }
   ],
   "source": [
    "povk(\"abc\", [1, 2, 3], 4, 5, 6, k1=31)"
   ]
  },
  {
   "cell_type": "code",
   "execution_count": 24,
   "metadata": {},
   "outputs": [
    {
     "name": "stdout",
     "output_type": "stream",
     "text": [
      "povk <abc> <[1, 2, 3]> <(4, 5, 6)> <31> <32>\n"
     ]
    }
   ],
   "source": [
    "povk(\"abc\", [1, 2, 3], 4, 5, 6, k2=32, k1=31)"
   ]
  },
  {
   "cell_type": "markdown",
   "metadata": {},
   "source": [
    "### Kwargs\n",
    "\n",
    "Just like variable number of positional parameters with `varargs...`, a function can have a variable number of keyword parameters with `kwargs...`.\n",
    "Keyword arguments that are not matched with keyword parameters are collected into a named tuple and pass in as kwargs.\n"
   ]
  },
  {
   "cell_type": "code",
   "execution_count": 25,
   "metadata": {},
   "outputs": [
    {
     "data": {
      "text/plain": [
       "povkv (generic function with 2 methods)"
      ]
     },
     "execution_count": 25,
     "metadata": {},
     "output_type": "execute_result"
    }
   ],
   "source": [
    "function povkv(a, b=2, v...; k1=11, k2=12, kw...)      # positional, optional, varargs; keyword, kwargs\n",
    "    println(\"povkv <$a> <$b> <$v> <$k1> <$k2>\")\n",
    "    for (k, v) in kw\n",
    "        println(\"povkv kwargs <$k> <$v>\")\n",
    "    end\n",
    "end"
   ]
  },
  {
   "cell_type": "code",
   "execution_count": 26,
   "metadata": {},
   "outputs": [
    {
     "name": "stdout",
     "output_type": "stream",
     "text": [
      "povkv <1> <2> <()> <11> <12>\n"
     ]
    }
   ],
   "source": [
    "povkv(1)"
   ]
  },
  {
   "cell_type": "code",
   "execution_count": 27,
   "metadata": {},
   "outputs": [
    {
     "name": "stdout",
     "output_type": "stream",
     "text": [
      "povkv <abc> <[1, 2, 3]> <()> <11> <12>\n"
     ]
    }
   ],
   "source": [
    "povkv(\"abc\", [1, 2, 3])"
   ]
  },
  {
   "cell_type": "code",
   "execution_count": 28,
   "metadata": {},
   "outputs": [
    {
     "name": "stdout",
     "output_type": "stream",
     "text": [
      "povkv <abc> <[1, 2, 3]> <(4, 5, 6)> <11> <12>\n"
     ]
    }
   ],
   "source": [
    "povkv(\"abc\", [1, 2, 3], 4, 5, 6)"
   ]
  },
  {
   "cell_type": "code",
   "execution_count": 29,
   "metadata": {},
   "outputs": [
    {
     "name": "stdout",
     "output_type": "stream",
     "text": [
      "povkv <abc> <[1, 2, 3]> <(4, 5, 6)> <31> <12>\n"
     ]
    }
   ],
   "source": [
    "povkv(\"abc\", [1, 2, 3], 4, 5, 6, k1=31)"
   ]
  },
  {
   "cell_type": "code",
   "execution_count": 30,
   "metadata": {},
   "outputs": [
    {
     "name": "stdout",
     "output_type": "stream",
     "text": [
      "povkv <abc> <[1, 2, 3]> <(4, 5, 6)> <31> <32>\n"
     ]
    }
   ],
   "source": [
    "povkv(\"abc\", [1, 2, 3], 4, 5, 6, k2=32, k1=31)"
   ]
  },
  {
   "cell_type": "code",
   "execution_count": 31,
   "metadata": {},
   "outputs": [
    {
     "name": "stdout",
     "output_type": "stream",
     "text": [
      "povkv <abc> <[1, 2, 3]> <(4, 5, 6)> <31> <32>\n",
      "povkv kwargs <k3> <33>\n",
      "povkv kwargs <k4> <34>\n"
     ]
    }
   ],
   "source": [
    "povkv(\"abc\", [1, 2, 3], 4, 5, 6, k3=33, k4=34, k2=32, k1=31)"
   ]
  },
  {
   "cell_type": "code",
   "execution_count": 32,
   "metadata": {},
   "outputs": [
    {
     "name": "stdout",
     "output_type": "stream",
     "text": [
      "povkv <abc> <[1, 2, 3]> <()> <31> <32>\n",
      "povkv kwargs <k3> <33>\n",
      "povkv kwargs <k4> <34>\n"
     ]
    }
   ],
   "source": [
    "povkv(\"abc\", [1, 2, 3], k3=33, k4=34, k2=32, k1=31)"
   ]
  },
  {
   "cell_type": "code",
   "execution_count": 33,
   "metadata": {},
   "outputs": [
    {
     "name": "stdout",
     "output_type": "stream",
     "text": [
      "povkv <abc> <2> <()> <31> <32>\n",
      "povkv kwargs <k3> <33>\n",
      "povkv kwargs <k4> <34>\n"
     ]
    }
   ],
   "source": [
    "povkv(\"abc\", k3=33, k4=34, k2=32, k1=31)"
   ]
  },
  {
   "cell_type": "markdown",
   "metadata": {},
   "source": [
    "## Slurp, splat\n",
    "\n",
    "The `...` operator is used in two ways:\n",
    "\n",
    "- to **slurp** up many arguments into a single parameter. This is what `varargs...` and `kwargs...` does.  Slurpping is defined at function definition time.\n",
    "\n",
    "- to **splat** open a collection argument and use its elements as many parameters, the opposite of slurp.  This is done by appending `...` to a collection at function call time."
   ]
  },
  {
   "cell_type": "code",
   "execution_count": 34,
   "metadata": {},
   "outputs": [
    {
     "data": {
      "text/plain": [
       "f (generic function with 1 method)"
      ]
     },
     "execution_count": 34,
     "metadata": {},
     "output_type": "execute_result"
    }
   ],
   "source": [
    "function f(a, b, c)\n",
    "    println(\"f <$a> <$b> <$c>\")\n",
    "end"
   ]
  },
  {
   "cell_type": "code",
   "execution_count": 35,
   "metadata": {},
   "outputs": [
    {
     "data": {
      "text/plain": [
       "(1, \"abc\", [11, 12, 13])"
      ]
     },
     "execution_count": 35,
     "metadata": {},
     "output_type": "execute_result"
    }
   ],
   "source": [
    "t = (1, \"abc\", [11, 12, 13])            # create a tuple"
   ]
  },
  {
   "cell_type": "code",
   "execution_count": 36,
   "metadata": {},
   "outputs": [
    {
     "name": "stdout",
     "output_type": "stream",
     "text": [
      "f <(1, \"abc\", [11, 12, 13])> <2> <3>\n"
     ]
    }
   ],
   "source": [
    "f(t, 2, 3)                              # call f with three arguments"
   ]
  },
  {
   "cell_type": "code",
   "execution_count": 37,
   "metadata": {},
   "outputs": [
    {
     "name": "stdout",
     "output_type": "stream",
     "text": [
      "f <1> <abc> <[11, 12, 13]>\n"
     ]
    }
   ],
   "source": [
    "f(t...)                                 # call f splatting t open"
   ]
  },
  {
   "cell_type": "code",
   "execution_count": 38,
   "metadata": {},
   "outputs": [
    {
     "name": "stdout",
     "output_type": "stream",
     "text": [
      "f <11> <12> <13>\n"
     ]
    }
   ],
   "source": [
    "f(t[3]...)                              # call f splatting t[3] open"
   ]
  },
  {
   "cell_type": "markdown",
   "metadata": {},
   "source": [
    "## Argument passing\n",
    "\n",
    "Variables are names that are bound to some values.\n",
    "When you pass them to functions, function parameters are simply new bindings to values of the corresponding argument, the values are not copied.\n",
    "This is known as **call-by-reference** or **pass-by-sharing**, not **call-by-copy** where functions are passed another copy of the values.\n",
    "\n",
    "If the values are mutable such as arrays, changes made to the value will persist after the function terminates.\n",
    "If the values are immutable, the function cannot change them."
   ]
  },
  {
   "cell_type": "code",
   "execution_count": 39,
   "metadata": {},
   "outputs": [
    {
     "name": "stdout",
     "output_type": "stream",
     "text": [
      "--- Before function call ---\n",
      "num is at 6704321922336928067   3.14\n",
      "str is at 15489825306391732987   abcde\n",
      "tup is at 17131326638644741887   (1, 2, 3)\n",
      "vec is at 7556541646384703486   [1, 2, 3]\n",
      "\n",
      "--- Function receives ---\n",
      "n is at 6704321922336928067   3.14\n",
      "s is at 15489825306391732987   abcde\n",
      "t is at 17131326638644741887   (1, 2, 3)\n",
      "v is at 7556541646384703486   [1, 2, 3]\n",
      "\n",
      "--- Function modification ---\n",
      "n is at 2457898885946771682   6.28\n",
      "s is at 1714124204560527472   xyz\n",
      "t is at 12537399886886275261   (11, 12, 13)\n",
      "v is at 7556541646384703486   [888, 2, 3]\n",
      "\n",
      "--- After function call ---\n",
      "num is at 6704321922336928067   3.14\n",
      "str is at 15489825306391732987   abcde\n",
      "tup is at 17131326638644741887   (1, 2, 3)\n",
      "vec is at 7556541646384703486   [888, 2, 3]\n",
      "\n"
     ]
    }
   ],
   "source": [
    "num = 3.14              # Number are immutable\n",
    "str = \"abcde\"           # strings are immutable\n",
    "tup = (1, 2, 3)         # Tuples are immutable\n",
    "vec = [1, 2, 3]         # Arrays are mutable\n",
    "\n",
    "println(\"--- Before function call ---\")\n",
    "println(\"num is at $(objectid(num))   $num\")\n",
    "println(\"str is at $(objectid(str))   $str\")\n",
    "println(\"tup is at $(objectid(tup))   $tup\")\n",
    "println(\"vec is at $(objectid(vec))   $vec\\n\")\n",
    "\n",
    "function foo(n, s, t, v)\n",
    "    println(\"--- Function receives ---\")\n",
    "    println(\"n is at $(objectid(n))   $n\")\n",
    "    println(\"s is at $(objectid(s))   $s\")\n",
    "    println(\"t is at $(objectid(t))   $t\")\n",
    "    println(\"v is at $(objectid(v))   $v\\n\")\n",
    "    \n",
    "    n = 6.28\n",
    "    s = \"xyz\"\n",
    "    t = (11, 12, 13)\n",
    "    v[1] = 888\n",
    "    \n",
    "    println(\"--- Function modification ---\")\n",
    "    println(\"n is at $(objectid(n))   $n\")\n",
    "    println(\"s is at $(objectid(s))   $s\")\n",
    "    println(\"t is at $(objectid(t))   $t\")\n",
    "    println(\"v is at $(objectid(v))   $v\\n\")\n",
    "end\n",
    "\n",
    "foo(num, str, tup, vec)\n",
    "\n",
    "println(\"--- After function call ---\")\n",
    "println(\"num is at $(objectid(num))   $num\")\n",
    "println(\"str is at $(objectid(str))   $str\")\n",
    "println(\"tup is at $(objectid(tup))   $tup\")\n",
    "println(\"vec is at $(objectid(vec))   $vec\\n\")"
   ]
  },
  {
   "cell_type": "markdown",
   "metadata": {},
   "source": [
    "Julia uses `!` as the last character of functions that can modify its arguments.\n",
    "This is to alert you that what you passed into the function may be modified after the function call.\n"
   ]
  },
  {
   "cell_type": "markdown",
   "metadata": {},
   "source": [
    "## Return Value\n",
    "\n",
    "In addition to modifying mutable arguments, Julia functions can return a value.\n",
    "The value returned is the value of the last expression evaluated.\n",
    "In the absence of conditionals, this is the last expression in the function.\n",
    "You can use `return expr` to return the value of expr and exit the function; if expr is missing the return value is `nothing`."
   ]
  },
  {
   "cell_type": "code",
   "execution_count": 40,
   "metadata": {},
   "outputs": [
    {
     "data": {
      "text/plain": [
       "goo (generic function with 1 method)"
      ]
     },
     "execution_count": 40,
     "metadata": {},
     "output_type": "execute_result"
    }
   ],
   "source": [
    "function goo(x, y)      # function definition\n",
    "    x + y               # do something\n",
    "    return x + y        # return value & terminate\n",
    "    x - y               # never reached\n",
    "end"
   ]
  },
  {
   "cell_type": "markdown",
   "metadata": {},
   "source": [
    "You can specify the return type of the function by appending type annotation after the parameter list:"
   ]
  },
  {
   "cell_type": "code",
   "execution_count": 41,
   "metadata": {},
   "outputs": [
    {
     "data": {
      "text/plain": [
       "5"
      ]
     },
     "execution_count": 41,
     "metadata": {},
     "output_type": "execute_result"
    }
   ],
   "source": [
    "function goo(x, y)::Int32        # ensure goo() always return a Int32 value\n",
    "    return round(x + y)\n",
    "end\n",
    "\n",
    "goo(1.2, 3.4)"
   ]
  },
  {
   "cell_type": "markdown",
   "metadata": {},
   "source": [
    "The function's return value will be converted to the specified type as necessary.\n",
    "You can specify the return type of the equation form similarly:"
   ]
  },
  {
   "cell_type": "code",
   "execution_count": 42,
   "metadata": {},
   "outputs": [
    {
     "data": {
      "text/plain": [
       "5"
      ]
     },
     "execution_count": 42,
     "metadata": {},
     "output_type": "execute_result"
    }
   ],
   "source": [
    "goo(x,y)::Int32 = round(x + y)\n",
    "\n",
    "goo(1.2, 3.4)"
   ]
  },
  {
   "cell_type": "markdown",
   "metadata": {},
   "source": [
    "The return type of anonymous statement function is specified similarly:"
   ]
  },
  {
   "cell_type": "code",
   "execution_count": 43,
   "metadata": {},
   "outputs": [
    {
     "data": {
      "text/plain": [
       "#11 (generic function with 1 method)"
      ]
     },
     "execution_count": 43,
     "metadata": {},
     "output_type": "execute_result"
    }
   ],
   "source": [
    "(x,y)::Int32 -> round(x + y)"
   ]
  },
  {
   "cell_type": "markdown",
   "metadata": {},
   "source": [
    "## Do Block\n",
    "\n",
    "Many functions accept a function as its first parameter, for example, `sum(f, itr)` applies f to the iterator and then sums the results.\n",
    "Without this inner function parameter, you would have to apply f to the iterator, capture the results and then call sum.\n",
    "\n",
    "You can always define a named function and pass it to the outer function, however, Julia has a cleaner **do-end** syntax to construct \n",
    "an annonymous inner function that is automatically passed to an outer function as its first argument.\n",
    "\n",
    "Let's define a simple function and apply it over an array:"
   ]
  },
  {
   "cell_type": "code",
   "execution_count": 44,
   "metadata": {},
   "outputs": [
    {
     "data": {
      "text/plain": [
       "45"
      ]
     },
     "execution_count": 44,
     "metadata": {},
     "output_type": "execute_result"
    }
   ],
   "source": [
    "f(x) = 3x\n",
    "sum(f, 1:5)"
   ]
  },
  {
   "cell_type": "markdown",
   "metadata": {},
   "source": [
    "You can use a simple anonymous function instead:"
   ]
  },
  {
   "cell_type": "code",
   "execution_count": 45,
   "metadata": {},
   "outputs": [
    {
     "data": {
      "text/plain": [
       "45"
      ]
     },
     "execution_count": 45,
     "metadata": {},
     "output_type": "execute_result"
    }
   ],
   "source": [
    "sum(x -> 3x, 1:5)"
   ]
  },
  {
   "cell_type": "markdown",
   "metadata": {},
   "source": [
    "We can remove the inner function and use a do-block.\n",
    "The do-block defines an anonymous function with x as the parameter:"
   ]
  },
  {
   "cell_type": "code",
   "execution_count": 46,
   "metadata": {},
   "outputs": [
    {
     "data": {
      "text/plain": [
       "45"
      ]
     },
     "execution_count": 46,
     "metadata": {},
     "output_type": "execute_result"
    }
   ],
   "source": [
    "sum(1:5) do x       # x is the parameter of the anonymous function\n",
    "    3x\n",
    "end"
   ]
  },
  {
   "cell_type": "markdown",
   "metadata": {},
   "source": [
    "do-block becomes useful when the inner function is multi-line."
   ]
  },
  {
   "cell_type": "markdown",
   "metadata": {},
   "source": [
    "### Read write text Files\n",
    "\n",
    "Julia has the standard approach for read/write from an IOStream via the open(), read(), write(), and close() functions.\n",
    "Let's create a text file:"
   ]
  },
  {
   "cell_type": "code",
   "execution_count": 47,
   "metadata": {},
   "outputs": [],
   "source": [
    "open(\"hello.txt\", \"w\") do io          # anonymous function\n",
    "    write(io, \"Hello world!\\n\")\n",
    "    write(io, \"Hello again!\\n\")\n",
    "    write(io, \"Hello goodbye!\\n\")\n",
    "end;"
   ]
  },
  {
   "cell_type": "markdown",
   "metadata": {},
   "source": [
    "The example used an [open function](https://docs.julialang.org/en/v1/base/io-network/#Base.open) in the Base library which is defined as follows:\n",
    "\n",
    "```\n",
    "function open(f::Function, args...; kwargs...)\n",
    "    io = open(args...; kwargs...)                # open\n",
    "    try\n",
    "        f(io)                                    # use\n",
    "    finally\n",
    "        close(io)                                # always close even if f(io) encounters error\n",
    "    end\n",
    "end\n",
    "```\n",
    "\n",
    "You can read the entire back as a string with the `read(io, String)` function as follows:"
   ]
  },
  {
   "cell_type": "code",
   "execution_count": 48,
   "metadata": {},
   "outputs": [
    {
     "data": {
      "text/plain": [
       "\"Hello world!\\nHello again!\\nHello goodbye!\\n\""
      ]
     },
     "execution_count": 48,
     "metadata": {},
     "output_type": "execute_result"
    }
   ],
   "source": [
    "s = open(\"hello.txt\") do f\n",
    "    read(f, String)\n",
    "end"
   ]
  },
  {
   "cell_type": "code",
   "execution_count": 49,
   "metadata": {},
   "outputs": [
    {
     "data": {
      "text/plain": [
       "\"Hello world!\\nHello again!\\nHello goodbye!\\n\""
      ]
     },
     "execution_count": 49,
     "metadata": {},
     "output_type": "execute_result"
    }
   ],
   "source": [
    "read(\"hello.txt\", String)"
   ]
  },
  {
   "cell_type": "markdown",
   "metadata": {},
   "source": [
    "You can read the file line by line with the `eachline` function:"
   ]
  },
  {
   "cell_type": "code",
   "execution_count": 50,
   "metadata": {},
   "outputs": [
    {
     "name": "stdout",
     "output_type": "stream",
     "text": [
      "Hello world!\n",
      "Hello again!\n",
      "Hello goodbye!\n"
     ]
    }
   ],
   "source": [
    "open(\"hello.txt\") do fin\n",
    "    for line in eachline(fin)\n",
    "        println(line)\n",
    "    end\n",
    "end"
   ]
  },
  {
   "cell_type": "code",
   "execution_count": 51,
   "metadata": {},
   "outputs": [
    {
     "name": "stdout",
     "output_type": "stream",
     "text": [
      "1 (12): Hello world!\n",
      "2 (12): Hello again!\n",
      "3 (14): Hello goodbye!\n"
     ]
    }
   ],
   "source": [
    "open(\"hello.txt\") do fin\n",
    "    for (num, line) in enumerate(eachline(fin))\n",
    "        println(\"$num ($(length(line))): $line\")\n",
    "    end\n",
    "end"
   ]
  },
  {
   "cell_type": "markdown",
   "metadata": {},
   "source": [
    "We can copy it to another file quite easily as well:"
   ]
  },
  {
   "cell_type": "code",
   "execution_count": 52,
   "metadata": {},
   "outputs": [],
   "source": [
    "open(\"hello-copy.txt\", \"w\") do fout                             # open output file\n",
    "    open(\"hello.txt\") do fin                                    # open input file\n",
    "        for (num, line) in enumerate(eachline(fin))             # for each line...\n",
    "            # process each line as necessary                    # process each line as necessary\n",
    "            write(fout, \"$num: $line\\n\")                        # write each line\n",
    "        end\n",
    "    end    \n",
    "end"
   ]
  },
  {
   "cell_type": "markdown",
   "metadata": {},
   "source": [
    "Let's check the file:"
   ]
  },
  {
   "cell_type": "code",
   "execution_count": 53,
   "metadata": {},
   "outputs": [
    {
     "data": {
      "text/plain": [
       "\"1: Hello world!\\n2: Hello again!\\n3: Hello goodbye!\\n\""
      ]
     },
     "execution_count": 53,
     "metadata": {},
     "output_type": "execute_result"
    }
   ],
   "source": [
    "read(\"hello-copy.txt\", String)"
   ]
  },
  {
   "cell_type": "code",
   "execution_count": 54,
   "metadata": {},
   "outputs": [
    {
     "name": "stdout",
     "output_type": "stream",
     "text": [
      "1: Hello world!\n",
      "2: Hello again!\n",
      "3: Hello goodbye!\n"
     ]
    }
   ],
   "source": [
    "open(\"hello-copy.txt\") do fin\n",
    "    for line in eachline(fin)\n",
    "        println(line)\n",
    "    end\n",
    "end"
   ]
  },
  {
   "cell_type": "markdown",
   "metadata": {},
   "source": [
    "## Composition and piping\n",
    "\n",
    "There are times when we apply functions successively in sequence, for instance, suppose we want to apply a) uppercase, b) reverse, and c) first in sequence. We could use\n",
    "\n",
    "```\n",
    "first(reverse(uppercase(arg)))\n",
    "```\n",
    "\n",
    "Or we can use this more visually easy composition style with more spaces and fewer parentheses:\n",
    "\n",
    "```\n",
    "(first ∘ reverse ∘ uppercase)(arg)\n",
    "```\n",
    "\n",
    "Note that the composition returns an anonymous function which can be used wherever a single function is needed:"
   ]
  },
  {
   "cell_type": "code",
   "execution_count": 55,
   "metadata": {},
   "outputs": [
    {
     "data": {
      "text/plain": [
       "6-element Array{Char,1}:\n",
       " 'E'\n",
       " 'S'\n",
       " 'O'\n",
       " 'N'\n",
       " 'S'\n",
       " 'N'"
      ]
     },
     "execution_count": 55,
     "metadata": {},
     "output_type": "execute_result"
    }
   ],
   "source": [
    "map(first ∘ reverse ∘ uppercase, split(\"compose functions into an anonymous fuction\"))"
   ]
  },
  {
   "cell_type": "markdown",
   "metadata": {},
   "source": [
    "Nested function call and function composition still lists the functions from right to left which is not the natural form of a process pipeline.\n",
    "We can use the pipe operator `|>` instead: `args |> f1 |> f2 |> f3`"
   ]
  },
  {
   "cell_type": "code",
   "execution_count": 56,
   "metadata": {},
   "outputs": [
    {
     "data": {
      "text/plain": [
       "6-element Array{Char,1}:\n",
       " 'E'\n",
       " 'S'\n",
       " 'O'\n",
       " 'N'\n",
       " 'S'\n",
       " 'N'"
      ]
     },
     "execution_count": 56,
     "metadata": {},
     "output_type": "execute_result"
    }
   ],
   "source": [
    "split(\"compose functions into an anonymous fuction\") .|> uppercase .|> reverse .|> first    # dot broadcast!"
   ]
  },
  {
   "cell_type": "markdown",
   "metadata": {},
   "source": [
    "You can use whichever style that's more natural or pleasing to you."
   ]
  }
 ],
 "metadata": {
  "kernelspec": {
   "display_name": "Julia 1.4.1",
   "language": "julia",
   "name": "julia-1.4"
  },
  "language_info": {
   "file_extension": ".jl",
   "mimetype": "application/julia",
   "name": "julia",
   "version": "1.4.1"
  },
  "toc-autonumbering": true
 },
 "nbformat": 4,
 "nbformat_minor": 4
}
