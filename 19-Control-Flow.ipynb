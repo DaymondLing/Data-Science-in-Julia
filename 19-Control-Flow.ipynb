{
 "cells": [
  {
   "cell_type": "markdown",
   "metadata": {},
   "source": [
    "# Control flow\n",
    "\n",
    "Like all high-level languages, Julia provides a full set of modern control flow constructs:\n",
    "\n",
    "- Compound Expressions: begin and ;\n",
    "- Conditional Evaluation: if-elseif-else and ?: (ternary operator)\n",
    "- Short-Circuit Evaluation: &&, || and chained comparisons\n",
    "- Loops: while and for\n",
    "- Exception Handling: try-catch, error and throw"
   ]
  },
  {
   "cell_type": "markdown",
   "metadata": {},
   "source": [
    "## Compound expression\n",
    "\n",
    "Compound expression is a sequence of subexpressions that are evaluated in order, its value is the the last subexpression.\n",
    "It allows you to use multiple expressions where the syntax only allows one, for example, a one-statement function definition.\n",
    "\n",
    "There are two varieties: `begin-end` block and `(;)` chains.\n",
    "\n",
    "Their form are\n",
    "\n",
    "```\n",
    "begin\n",
    "    <expr-1>\n",
    "    ...\n",
    "    <expr-n>\n",
    "end\n",
    "```\n",
    "\n",
    "```\n",
    "y = (expr-1; ...; expr-n>)\n",
    "```"
   ]
  },
  {
   "cell_type": "code",
   "execution_count": 1,
   "metadata": {},
   "outputs": [
    {
     "data": {
      "text/plain": [
       "14"
      ]
     },
     "execution_count": 1,
     "metadata": {},
     "output_type": "execute_result"
    }
   ],
   "source": [
    "x = 3\n",
    "begin\n",
    "    intercept = 5\n",
    "    slope = 3\n",
    "    intercept + slope * x\n",
    "end"
   ]
  },
  {
   "cell_type": "markdown",
   "metadata": {},
   "source": [
    "The equivalent is:"
   ]
  },
  {
   "cell_type": "code",
   "execution_count": 2,
   "metadata": {},
   "outputs": [
    {
     "data": {
      "text/plain": [
       "z (generic function with 1 method)"
      ]
     },
     "execution_count": 2,
     "metadata": {},
     "output_type": "execute_result"
    }
   ],
   "source": [
    "z(x) = (slope = 3; intercept = 5; intercept + slope * x)"
   ]
  },
  {
   "cell_type": "code",
   "execution_count": 3,
   "metadata": {},
   "outputs": [
    {
     "data": {
      "text/plain": [
       "17"
      ]
     },
     "execution_count": 3,
     "metadata": {},
     "output_type": "execute_result"
    }
   ],
   "source": [
    "z(4)"
   ]
  },
  {
   "cell_type": "markdown",
   "metadata": {},
   "source": [
    "## Three-valued relational logic\n",
    "\n",
    "Julia's relational operators are as follows:\n",
    "\n",
    "Expression | Name \n",
    "---------- | --------- \n",
    "~x | bitwise not\n",
    "x & y | bitwise and\n",
    "x &#124; y | bitwise or\n",
    "x ⊻ y | bitwise xor (exclusive or)\n",
    "\n",
    "Whereas comparison operators propagate missing values as it is not possible to compare a given value against something that is not given, \n",
    "logical operators are different, they obey [three-value logic](https://en.wikipedia.org/wiki/Three-valued_logic):\n",
    "\n",
    "**Not**\n",
    "\n",
    "A | ~A\n",
    "--|------\n",
    "false | true\n",
    "missing | missing\n",
    "true | false\n",
    "\n",
    "**And**\n",
    "\n",
    "A & B | B: false | B: missing | B: true\n",
    "--|--------|--------|--------------\n",
    "**A: false** | false | false | false\n",
    "**A: missing** | false | missing | missing\n",
    "**A: true** | false | missing | true\n",
    "\n",
    "**Or**\n",
    "\n",
    "A &#124; B | B: false | B: missing | B: true\n",
    "--|--------|--------|--------------\n",
    "**A: false** | false | missing | true\n",
    "**A: missing** | missing | missing | true\n",
    "**A: true** | true | true | true\n",
    "\n",
    "**Xor**\n",
    "\n",
    "A ⊻ B     | B: false | B: missing | B: true\n",
    "--------|---------|-----------|--------------\n",
    "**A: false**   | false   | missing   | true\n",
    "**A: missing** | missing | missing   | missing\n",
    "**A: true**    | true    | missing   | false\n",
    "\n",
    "Note that these operators can operate on integers as bitwise operators:"
   ]
  },
  {
   "cell_type": "code",
   "execution_count": 4,
   "metadata": {},
   "outputs": [
    {
     "data": {
      "text/plain": [
       "-4"
      ]
     },
     "execution_count": 4,
     "metadata": {},
     "output_type": "execute_result"
    }
   ],
   "source": [
    "~3            # not flips bits"
   ]
  },
  {
   "cell_type": "code",
   "execution_count": 5,
   "metadata": {},
   "outputs": [
    {
     "data": {
      "text/plain": [
       "1"
      ]
     },
     "execution_count": 5,
     "metadata": {},
     "output_type": "execute_result"
    }
   ],
   "source": [
    "1 & 3         # bitwise and"
   ]
  },
  {
   "cell_type": "code",
   "execution_count": 6,
   "metadata": {},
   "outputs": [
    {
     "data": {
      "text/plain": [
       "3"
      ]
     },
     "execution_count": 6,
     "metadata": {},
     "output_type": "execute_result"
    }
   ],
   "source": [
    "1 | 3         # bitwise or"
   ]
  },
  {
   "cell_type": "code",
   "execution_count": 7,
   "metadata": {},
   "outputs": [
    {
     "data": {
      "text/plain": [
       "2"
      ]
     },
     "execution_count": 7,
     "metadata": {},
     "output_type": "execute_result"
    }
   ],
   "source": [
    "1 ⊻ 3         # bitwise xor"
   ]
  },
  {
   "cell_type": "markdown",
   "metadata": {},
   "source": [
    "## if-elseif-else\n",
    "\n",
    "The if-elseif-else blocks allow unlimited conditional evaluation of statements, the first block where the conditional test is true is evaluated, otherwise the else block is evaluated (if present).\n",
    "\n",
    "```\n",
    "if test1\n",
    "    stmts        # multiple statements\n",
    "elseif test2     # optional, can repeat many times\n",
    "    stmts\n",
    "else             # optional, executed when all prior tests fail\n",
    "    stmts\n",
    "end              # not optional, mandatory\n",
    "```\n",
    "\n",
    "In keeping with minimalist syntax, Julia doesn't use the word \"then\" and block delimiters such as \"do; end;\" or \"{ }\" are unnecessary."
   ]
  },
  {
   "cell_type": "code",
   "execution_count": 8,
   "metadata": {},
   "outputs": [
    {
     "name": "stdout",
     "output_type": "stream",
     "text": [
      "x is 3, y is 4, x less than y\n"
     ]
    }
   ],
   "source": [
    "x = 3; y = 4\n",
    "\n",
    "if x < y\n",
    "    r = \"x less than y\"\n",
    "elseif x == y\n",
    "    r = \"x = y\"\n",
    "else\n",
    "    r = \"x larger than y\"\n",
    "end\n",
    "\n",
    "println(\"x is $x, y is $y, $r\")"
   ]
  },
  {
   "cell_type": "markdown",
   "metadata": {},
   "source": [
    "Unlike other languages, the if statement returns a value which is the return value of the last executed statement in the branch that was chosen (if any).\n",
    "If all of the branches assign value to the same variable, it can look simpler:"
   ]
  },
  {
   "cell_type": "code",
   "execution_count": 9,
   "metadata": {},
   "outputs": [
    {
     "name": "stdout",
     "output_type": "stream",
     "text": [
      "x is 3, y is 3, x == y\n"
     ]
    }
   ],
   "source": [
    "x = 3; y = 3\n",
    "\n",
    "r = if x < y\n",
    "    \"x less than y\"\n",
    "elseif x == y\n",
    "    \"x == y\"\n",
    "else\n",
    "    \"x larger than y\"\n",
    "end\n",
    "\n",
    "println(\"x is $x, y is $y, $r\")"
   ]
  },
  {
   "cell_type": "markdown",
   "metadata": {},
   "source": [
    "## Ternary Operator\n",
    "\n",
    "The ternary operator is a simple two-way alternative expression evaluation mechanism, ternary means an operator that takes three operands.\n",
    "\n",
    "```\n",
    "test ? true-expr : false-expr     # mandatory whitespace surrounding ? and :\n",
    "```\n",
    "\n",
    "The tokens ? and : must be surrounded by whitespaces, newline is acceptable.\n",
    "\n",
    "If test is true, true-expr is evaluated, otherwise false-expr is evaluated.\n",
    "Just like if-elseif-else, only one of the expressions is executed; this matters if the expressions have side-effects."
   ]
  },
  {
   "cell_type": "code",
   "execution_count": 10,
   "metadata": {},
   "outputs": [
    {
     "name": "stdout",
     "output_type": "stream",
     "text": [
      "x < y\n"
     ]
    }
   ],
   "source": [
    "x = 1; y = 2\n",
    "println(x < y ? \"x < y\" : \"x >= y\")"
   ]
  },
  {
   "cell_type": "code",
   "execution_count": 11,
   "metadata": {},
   "outputs": [
    {
     "name": "stdout",
     "output_type": "stream",
     "text": [
      "x >= y\n"
     ]
    }
   ],
   "source": [
    "x = 2; y = 2\n",
    "println(x < y ? \"x < y\" : \"x >= y\")"
   ]
  },
  {
   "cell_type": "markdown",
   "metadata": {},
   "source": [
    "While Julia allows chaining ternary operators to create more complex logic, they are not intuitive to read and are best avoided:"
   ]
  },
  {
   "cell_type": "code",
   "execution_count": 12,
   "metadata": {},
   "outputs": [
    {
     "name": "stdout",
     "output_type": "stream",
     "text": [
      "x == y"
     ]
    }
   ],
   "source": [
    "x = 2; y = 2\n",
    "print(x < y ? \"x < y\" : \n",
    "      x > y ? \"x > y\" : \"x == y\")"
   ]
  },
  {
   "cell_type": "markdown",
   "metadata": {},
   "source": [
    "## Short-Circuit Evaluation\n",
    "\n",
    "Short-circuit evaluation is also known as **lazy evaluation**.\n",
    "In a series of boolean expressions connected by && (and) and || (or) boolean operators, only the minimum number of expressions are evaluated as necessary.\n",
    "As soon as the result can be ascertained, the rest of the boolean conditions are not evaluated.\n",
    "These two operators can be used to put together a complex sequence of logic with the usual precedence order (&& before ||) and associativity (to the right).\n",
    "All operands must evaluate to true-false-missing except the very last expression which may be evaluated and returned depending on the preceding conditionals.\n",
    "\n",
    "In their simplest form,\n",
    "\n",
    "- in the expression `a && b`, b is evaluated only if a is true. If a is false, the expression is false, there's no need to evaluate b.\n",
    "\n",
    "- in the expression `a || b`, b is evaluated only if a is false. If a is true, the expression is true, there's no need to evaluate b.\n",
    "\n",
    "They are often used as very short if statements to check conditions and assert values before execution:\n",
    "\n",
    "- **`<cond> && <statement>`** is equivalent to `if <cond> <statement> end`. It is short form of if true < statement >.\n",
    "\n",
    "- **`<cond> || <statement>`** is equivalent to `if ! <cond> <statement> end`. It is short form of if not true < statement >, or an assertion.\n",
    "\n",
    "For example,\n",
    "\n",
    "```\n",
    "function factorial(n::Int)\n",
    "    n >= 0 || error(\"n must be non-negative\")    # or else:   check n >= 0 or else error\n",
    "    n == 0 && return 1                           # and then:  if n == 0 and then return 1\n",
    "    n * factorial(n-1)\n",
    "end\n",
    "```"
   ]
  },
  {
   "cell_type": "markdown",
   "metadata": {},
   "source": [
    "## while\n",
    "\n",
    "A while loop evaluates a condition and, as long as the condition is true, keeps executing the loop body.\n",
    "Because the condition is tested at the top of the loop, it is possible the loop is not executed.\n",
    "Here's an example:"
   ]
  },
  {
   "cell_type": "code",
   "execution_count": 13,
   "metadata": {},
   "outputs": [
    {
     "name": "stdout",
     "output_type": "stream",
     "text": [
      "1\n",
      "2\n",
      "3\n"
     ]
    }
   ],
   "source": [
    "i = 1                 # initialize\n",
    "while i <= 3          # test\n",
    "    println(i)        # body\n",
    "    i += 1            # update\n",
    "end"
   ]
  },
  {
   "cell_type": "markdown",
   "metadata": {},
   "source": [
    "Julia does not have an until loop which is test at the bottom and the body is executes at least once.\n",
    "But you can use this construct for the same effect:\n",
    "\n",
    "```\n",
    "test = true               # initialize to true\n",
    "while test                # test\n",
    "    <body>                # body\n",
    "    <update test>         # update\n",
    "end\n",
    "```"
   ]
  },
  {
   "cell_type": "markdown",
   "metadata": {},
   "source": [
    "## for\n",
    "\n",
    "When the sequence to be iterated over is known or has a regular structure, a for loop is more idiomatic.\n",
    "Iterating over a given sequence:"
   ]
  },
  {
   "cell_type": "code",
   "execution_count": 14,
   "metadata": {},
   "outputs": [
    {
     "name": "stdout",
     "output_type": "stream",
     "text": [
      "1\n",
      "3\n",
      "5\n",
      "7\n"
     ]
    }
   ],
   "source": [
    "for i in [1, 3, 5, 7]\n",
    "    println(i)\n",
    "end"
   ]
  },
  {
   "cell_type": "markdown",
   "metadata": {},
   "source": [
    "Iterating over an iterable:"
   ]
  },
  {
   "cell_type": "code",
   "execution_count": 15,
   "metadata": {},
   "outputs": [
    {
     "name": "stdout",
     "output_type": "stream",
     "text": [
      "1\n",
      "2\n",
      "3\n"
     ]
    }
   ],
   "source": [
    "for i in 1:3               # start:stop\n",
    "    println(i)\n",
    "end"
   ]
  },
  {
   "cell_type": "code",
   "execution_count": 16,
   "metadata": {},
   "outputs": [
    {
     "name": "stdout",
     "output_type": "stream",
     "text": [
      "1\n",
      "3\n",
      "5\n",
      "7\n"
     ]
    }
   ],
   "source": [
    "for i in 1:2:7             # start:step:stop\n",
    "    println(i)\n",
    "end"
   ]
  },
  {
   "cell_type": "markdown",
   "metadata": {},
   "source": [
    "## break and continue\n",
    "\n",
    "With both the while loop and for loop, you can use **break** to exit the loop immediately or **continue** to skip the rest of the body:"
   ]
  },
  {
   "cell_type": "code",
   "execution_count": 17,
   "metadata": {},
   "outputs": [
    {
     "name": "stdout",
     "output_type": "stream",
     "text": [
      "k is 1\n",
      "k is 2\n",
      "k is 4\n",
      "k is 5\n",
      "k is 6\n"
     ]
    }
   ],
   "source": [
    "for k in 1:10\n",
    "    k <= 6 || break         # k <= 6 or else ...\n",
    "    k == 3 && continue      # k == 3 and then ...\n",
    "    println(\"k is $k\")\n",
    "end"
   ]
  },
  {
   "cell_type": "markdown",
   "metadata": {},
   "source": [
    "## Nested for loop\n",
    "\n",
    "Loops can be nested, break/continue are associated with their respective loop:"
   ]
  },
  {
   "cell_type": "code",
   "execution_count": 18,
   "metadata": {},
   "outputs": [
    {
     "name": "stdout",
     "output_type": "stream",
     "text": [
      "i is 1  -------\n",
      "i is 1  j is 11\n",
      "i is 1  j is 12\n",
      "i is 2  -------\n",
      "i is 2  j is 11\n",
      "i is 2  j is 12\n"
     ]
    }
   ],
   "source": [
    "for i = 1:2\n",
    "    println(\"i is $i  -------\")\n",
    "    for j = 11:12\n",
    "        println(\"i is $i  j is $j\")\n",
    "    end\n",
    "end"
   ]
  },
  {
   "cell_type": "markdown",
   "metadata": {},
   "source": [
    "Because multi-level nested loop occurs frequently in scientific computations, you can specify all the iterators in a single for loop:"
   ]
  },
  {
   "cell_type": "code",
   "execution_count": 19,
   "metadata": {},
   "outputs": [
    {
     "name": "stdout",
     "output_type": "stream",
     "text": [
      "i is 1   j is 11   k is 101\n",
      "i is 1   j is 11   k is 102\n",
      "i is 1   j is 12   k is 101\n",
      "i is 1   j is 12   k is 102\n",
      "i is 2   j is 11   k is 101\n",
      "i is 2   j is 11   k is 102\n",
      "i is 2   j is 12   k is 101\n",
      "i is 2   j is 12   k is 102\n"
     ]
    }
   ],
   "source": [
    "for i = 1:2, j = 11:12, k = 101:102            # three level nested for loop\n",
    "    println(\"i is $i   j is $j   k is $k\")\n",
    "end"
   ]
  },
  {
   "cell_type": "markdown",
   "metadata": {},
   "source": [
    "## Exceptions\n",
    "\n",
    "There are two approaches to error handling:\n",
    "\n",
    "- **Look Before You Leap** (LBYL): validate variables before expression. There are a lot of error checking code before real work happens.\n",
    "- **Easier to Ask Forgiveness than Permission** (EAFP): EAFP assumes code will generally work and tries to catch the occasional exceptions and handle it after they occur.\n",
    "\n",
    "The `try/catch` framework is the latter, you try the expression and catch any errors and deal with it.\n",
    "\n",
    "```\n",
    "f = open(\"file\")\n",
    "try                                    # do this block\n",
    "    # read a line\n",
    "    # process a line\n",
    "catch err                              # err is the exception, catch block is executed when exception is raised\n",
    "    if ~isa(err, EOFError)               \n",
    "        println(\"unexpected error: $err\")\n",
    "    end\n",
    "finally                                # finally block is always executed\n",
    "    close(f)\n",
    "end\n",
    "```"
   ]
  },
  {
   "cell_type": "markdown",
   "metadata": {},
   "source": [
    "Here's a trivial example:"
   ]
  },
  {
   "cell_type": "code",
   "execution_count": 20,
   "metadata": {},
   "outputs": [
    {
     "name": "stdout",
     "output_type": "stream",
     "text": [
      ">>> DomainError(-4.0, \"log will only return a complex result if called with a complex argument. Try log(Complex(x)).\")\n"
     ]
    }
   ],
   "source": [
    "try\n",
    "    x = -4\n",
    "    log(x)\n",
    "catch err\n",
    "    println(\">>> \", err)\n",
    "end"
   ]
  }
 ],
 "metadata": {
  "kernelspec": {
   "display_name": "Julia 1.4.0",
   "language": "julia",
   "name": "julia-1.4"
  },
  "language_info": {
   "file_extension": ".jl",
   "mimetype": "application/julia",
   "name": "julia",
   "version": "1.4.0"
  },
  "toc-autonumbering": true
 },
 "nbformat": 4,
 "nbformat_minor": 4
}
