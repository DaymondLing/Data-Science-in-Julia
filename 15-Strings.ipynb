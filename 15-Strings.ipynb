{
 "cells": [
  {
   "cell_type": "markdown",
   "metadata": {},
   "source": [
    "# Strings\n",
    "\n",
    "Julia has a `Char` type for a single character and a `String` type for finite sequence of characters.\n",
    "Julia character and strings are natively built to work with Unicode code points, thus Julia can handle international languages straight out of the box.\n",
    "The complexity comes when we talk about the length of strings and indexing of strings -- do we mean the internal byte position or the logical character position?\n",
    "\n",
    "Let's begin with the most basic single character."
   ]
  },
  {
   "cell_type": "markdown",
   "metadata": {},
   "source": [
    "## Character\n",
    "\n",
    "`Char` is a primitive type that can represent any Unicode character, it has some limited arithmetic properties as well.\n",
    "Julia makes a distinction between a `Char` and a length-1 string, they are not the same thing.\n",
    "A character literal is enclosed in *single quotes*, not double quotes which is a String:"
   ]
  },
  {
   "cell_type": "code",
   "execution_count": 1,
   "metadata": {},
   "outputs": [
    {
     "data": {
      "text/plain": [
       "'a': ASCII/Unicode U+0061 (category Ll: Letter, lowercase)"
      ]
     },
     "execution_count": 1,
     "metadata": {},
     "output_type": "execute_result"
    }
   ],
   "source": [
    "'a'"
   ]
  },
  {
   "cell_type": "code",
   "execution_count": 2,
   "metadata": {},
   "outputs": [
    {
     "data": {
      "text/plain": [
       "Char"
      ]
     },
     "execution_count": 2,
     "metadata": {},
     "output_type": "execute_result"
    }
   ],
   "source": [
    "typeof('a')"
   ]
  },
  {
   "cell_type": "code",
   "execution_count": 3,
   "metadata": {},
   "outputs": [
    {
     "data": {
      "text/plain": [
       "String"
      ]
     },
     "execution_count": 3,
     "metadata": {},
     "output_type": "execute_result"
    }
   ],
   "source": [
    "typeof(\"a\")     # Not a Char"
   ]
  },
  {
   "cell_type": "markdown",
   "metadata": {},
   "source": [
    "A character can be converted to its numeric value by the `Int()` function:"
   ]
  },
  {
   "cell_type": "code",
   "execution_count": 4,
   "metadata": {},
   "outputs": [
    {
     "data": {
      "text/plain": [
       "97"
      ]
     },
     "execution_count": 4,
     "metadata": {},
     "output_type": "execute_result"
    }
   ],
   "source": [
    "Int('a')"
   ]
  },
  {
   "cell_type": "markdown",
   "metadata": {},
   "source": [
    "The traditional ASCII character escape sequences can be used as well:"
   ]
  },
  {
   "cell_type": "code",
   "execution_count": 5,
   "metadata": {},
   "outputs": [
    {
     "data": {
      "text/plain": [
       "(13, 10, 9)"
      ]
     },
     "execution_count": 5,
     "metadata": {},
     "output_type": "execute_result"
    }
   ],
   "source": [
    "Int('\\r'), Int('\\n'), Int('\\t')           # carraige return, newline tab"
   ]
  },
  {
   "cell_type": "markdown",
   "metadata": {},
   "source": [
    "An integer can be converted to a Char via the `Char()` function (not all integers are valid Unicode code points):"
   ]
  },
  {
   "cell_type": "code",
   "execution_count": 6,
   "metadata": {},
   "outputs": [
    {
     "data": {
      "text/plain": [
       "'a': ASCII/Unicode U+0061 (category Ll: Letter, lowercase)"
      ]
     },
     "execution_count": 6,
     "metadata": {},
     "output_type": "execute_result"
    }
   ],
   "source": [
    "Char(97)"
   ]
  },
  {
   "cell_type": "code",
   "execution_count": 7,
   "metadata": {},
   "outputs": [
    {
     "data": {
      "text/plain": [
       "'好': Unicode U+597D (category Lo: Letter, other)"
      ]
     },
     "execution_count": 7,
     "metadata": {},
     "output_type": "execute_result"
    }
   ],
   "source": [
    "'好'     # Chinese character for good"
   ]
  },
  {
   "cell_type": "code",
   "execution_count": 8,
   "metadata": {},
   "outputs": [
    {
     "data": {
      "text/plain": [
       "22909"
      ]
     },
     "execution_count": 8,
     "metadata": {},
     "output_type": "execute_result"
    }
   ],
   "source": [
    "Int('好')"
   ]
  },
  {
   "cell_type": "code",
   "execution_count": 9,
   "metadata": {},
   "outputs": [
    {
     "data": {
      "text/plain": [
       "'好': Unicode U+597D (category Lo: Letter, other)"
      ]
     },
     "execution_count": 9,
     "metadata": {},
     "output_type": "execute_result"
    }
   ],
   "source": [
    "Char(22909)"
   ]
  },
  {
   "cell_type": "markdown",
   "metadata": {},
   "source": [
    "Characters can be compared according to the integer value of their code point:"
   ]
  },
  {
   "cell_type": "code",
   "execution_count": 10,
   "metadata": {},
   "outputs": [
    {
     "data": {
      "text/plain": [
       "true"
      ]
     },
     "execution_count": 10,
     "metadata": {},
     "output_type": "execute_result"
    }
   ],
   "source": [
    "'A' < 'M' < 'Z' < 'a' < 'm' < 'z'"
   ]
  },
  {
   "cell_type": "markdown",
   "metadata": {},
   "source": [
    "You can perform limited arithmetic on Char based on their integer value:"
   ]
  },
  {
   "cell_type": "code",
   "execution_count": 11,
   "metadata": {},
   "outputs": [
    {
     "data": {
      "text/plain": [
       "'b': ASCII/Unicode U+0062 (category Ll: Letter, lowercase)"
      ]
     },
     "execution_count": 11,
     "metadata": {},
     "output_type": "execute_result"
    }
   ],
   "source": [
    "'a' + 1"
   ]
  },
  {
   "cell_type": "code",
   "execution_count": 12,
   "metadata": {},
   "outputs": [
    {
     "data": {
      "text/plain": [
       "3"
      ]
     },
     "execution_count": 12,
     "metadata": {},
     "output_type": "execute_result"
    }
   ],
   "source": [
    "'d' - 'a'"
   ]
  },
  {
   "cell_type": "markdown",
   "metadata": {},
   "source": [
    "Unicode codepoint can be entered by `\\u` followed by up to four hexadecimal digits or `\\U` followed by up to eight hexadecimal digits:"
   ]
  },
  {
   "cell_type": "code",
   "execution_count": 13,
   "metadata": {},
   "outputs": [
    {
     "data": {
      "text/plain": [
       "'a': ASCII/Unicode U+0061 (category Ll: Letter, lowercase)"
      ]
     },
     "execution_count": 13,
     "metadata": {},
     "output_type": "execute_result"
    }
   ],
   "source": [
    "'\\u0061'"
   ]
  },
  {
   "cell_type": "code",
   "execution_count": 14,
   "metadata": {},
   "outputs": [
    {
     "data": {
      "text/plain": [
       "'a': ASCII/Unicode U+0061 (category Ll: Letter, lowercase)"
      ]
     },
     "execution_count": 14,
     "metadata": {},
     "output_type": "execute_result"
    }
   ],
   "source": [
    "'\\U00000061'"
   ]
  },
  {
   "cell_type": "code",
   "execution_count": 15,
   "metadata": {},
   "outputs": [
    {
     "data": {
      "text/plain": [
       "'好': Unicode U+597D (category Lo: Letter, other)"
      ]
     },
     "execution_count": 15,
     "metadata": {},
     "output_type": "execute_result"
    }
   ],
   "source": [
    "'\\u597d'"
   ]
  },
  {
   "cell_type": "code",
   "execution_count": 16,
   "metadata": {},
   "outputs": [
    {
     "data": {
      "text/plain": [
       "'牛': Unicode U+725B (category Lo: Letter, other)"
      ]
     },
     "execution_count": 16,
     "metadata": {},
     "output_type": "execute_result"
    }
   ],
   "source": [
    "'牛'"
   ]
  },
  {
   "cell_type": "markdown",
   "metadata": {},
   "source": [
    "## String\n",
    "\n",
    "A string is a finite sequence of characters, its type is `String`.\n",
    "String literals are delimited by double quotes or triple double quotes:"
   ]
  },
  {
   "cell_type": "code",
   "execution_count": 17,
   "metadata": {},
   "outputs": [
    {
     "name": "stdout",
     "output_type": "stream",
     "text": [
      "abcdef"
     ]
    }
   ],
   "source": [
    "print(\"abcdef\")"
   ]
  },
  {
   "cell_type": "markdown",
   "metadata": {},
   "source": [
    "To put Unicode characters in the string literal, you can paste them in or use `\\u` and `\\U`:"
   ]
  },
  {
   "cell_type": "code",
   "execution_count": 18,
   "metadata": {},
   "outputs": [
    {
     "data": {
      "text/plain": [
       "\"Julia 真牛真好用!\""
      ]
     },
     "execution_count": 18,
     "metadata": {},
     "output_type": "execute_result"
    }
   ],
   "source": [
    "\"Julia \\u771f\\u725b\\u771f\\u597d\\u7528!\""
   ]
  },
  {
   "cell_type": "markdown",
   "metadata": {},
   "source": [
    "Use `\\\"` to enter a double quote, use `\\\\` to enter a backslash as usual."
   ]
  },
  {
   "cell_type": "markdown",
   "metadata": {},
   "source": [
    "Triple double quote allows easy entry of long multi-line strings:"
   ]
  },
  {
   "cell_type": "code",
   "execution_count": 19,
   "metadata": {},
   "outputs": [
    {
     "name": "stdout",
     "output_type": "stream",
     "text": [
      "abc \" def"
     ]
    }
   ],
   "source": [
    "str = \"\"\"abc \" def\"\"\"\n",
    "print(str)"
   ]
  },
  {
   "cell_type": "markdown",
   "metadata": {},
   "source": [
    "Here's a multi-line string:"
   ]
  },
  {
   "cell_type": "code",
   "execution_count": 20,
   "metadata": {},
   "outputs": [
    {
     "name": "stdout",
     "output_type": "stream",
     "text": [
      "abc\n",
      "def\n",
      "ghi\n"
     ]
    }
   ],
   "source": [
    "str = \n",
    "\"\"\"\n",
    "abc\n",
    "def\n",
    "ghi\n",
    "\"\"\"\n",
    "print(str)"
   ]
  },
  {
   "cell_type": "markdown",
   "metadata": {},
   "source": [
    "If there's a newline after the opening \"\"\", it is stripped, i.e., it is not part of the string.\n",
    "\n",
    "Triple quoted string are detented to the level of the least indented line (opening triple quote ignored).\n",
    "This makes it possible to indent strings along with code but not have the indent be part of the string, this can improve code readability:"
   ]
  },
  {
   "cell_type": "code",
   "execution_count": 21,
   "metadata": {},
   "outputs": [
    {
     "name": "stdout",
     "output_type": "stream",
     "text": [
      "  abc\n",
      "    def\n",
      "      ghi  \n"
     ]
    }
   ],
   "source": [
    "str = \"\"\"\n",
    "      abc\n",
    "        def\n",
    "          ghi  \n",
    "    \"\"\"\n",
    "print(str)"
   ]
  },
  {
   "cell_type": "markdown",
   "metadata": {},
   "source": [
    "The automatic detent is set by the least indented line, in the above example it is set by the enclosing triple quote line."
   ]
  },
  {
   "cell_type": "code",
   "execution_count": 22,
   "metadata": {},
   "outputs": [
    {
     "name": "stdout",
     "output_type": "stream",
     "text": [
      "abc\n",
      "  def\n",
      "    ghi\n"
     ]
    }
   ],
   "source": [
    "str = \"\"\"\n",
    "      abc\n",
    "        def\n",
    "          ghi\n",
    "      \"\"\"\n",
    "print(str)"
   ]
  },
  {
   "cell_type": "markdown",
   "metadata": {},
   "source": [
    "This example show the detent ignores the opening triple quote line and is set by the last triple quote."
   ]
  },
  {
   "cell_type": "markdown",
   "metadata": {},
   "source": [
    "## Interpolation\n",
    "\n",
    "It is easy to substitute expressions into a string - prefix the expression with **$**, use parenthesis if needed.\n",
    "This is especially handy for printing:"
   ]
  },
  {
   "cell_type": "code",
   "execution_count": 23,
   "metadata": {},
   "outputs": [
    {
     "name": "stdout",
     "output_type": "stream",
     "text": [
      "a is 123,\n",
      "b is 68,\n",
      "a + b is 191,\n",
      "a - b is 55,\n",
      "is a > b? true.\n"
     ]
    }
   ],
   "source": [
    "a = 123\n",
    "b = 68\n",
    "str = \"\"\"\n",
    "    a is $a,\n",
    "    b is $b,\n",
    "    a + b is $(a+b),\n",
    "    a - b is $(a-b),\n",
    "    is a > b? $(a>b).\n",
    "    \"\"\"\n",
    "print(str)"
   ]
  },
  {
   "cell_type": "markdown",
   "metadata": {},
   "source": [
    "If you need to print a $, escape it with \\\\:"
   ]
  },
  {
   "cell_type": "code",
   "execution_count": 24,
   "metadata": {},
   "outputs": [
    {
     "name": "stdout",
     "output_type": "stream",
     "text": [
      "$123"
     ]
    }
   ],
   "source": [
    "print(\"\\$$a\")"
   ]
  },
  {
   "cell_type": "markdown",
   "metadata": {},
   "source": [
    "## String Basics\n",
    "\n",
    "The length of a string is obtained by the `length()` function:"
   ]
  },
  {
   "cell_type": "code",
   "execution_count": 25,
   "metadata": {},
   "outputs": [
    {
     "data": {
      "text/plain": [
       "8"
      ]
     },
     "execution_count": 25,
     "metadata": {},
     "output_type": "execute_result"
    }
   ],
   "source": [
    "str = \"Welcome!\"\n",
    "length(str)"
   ]
  },
  {
   "cell_type": "markdown",
   "metadata": {},
   "source": [
    "Strings can be indexed, the index scheme is 1-based, not 0-based:"
   ]
  },
  {
   "cell_type": "code",
   "execution_count": 26,
   "metadata": {},
   "outputs": [
    {
     "name": "stdout",
     "output_type": "stream",
     "text": [
      "W"
     ]
    }
   ],
   "source": [
    "print(str[1])"
   ]
  },
  {
   "cell_type": "markdown",
   "metadata": {},
   "source": [
    "The keywords `begin`, `end` inside an indexing operation is shorthand for the first and last index along the given dimension:"
   ]
  },
  {
   "cell_type": "code",
   "execution_count": 27,
   "metadata": {},
   "outputs": [
    {
     "name": "stdout",
     "output_type": "stream",
     "text": [
      "W!"
     ]
    }
   ],
   "source": [
    "print(str[begin], str[end])"
   ]
  },
  {
   "cell_type": "code",
   "execution_count": 28,
   "metadata": {},
   "outputs": [
    {
     "name": "stdout",
     "output_type": "stream",
     "text": [
      "c"
     ]
    }
   ],
   "source": [
    "print(str[end-4])"
   ]
  },
  {
   "cell_type": "markdown",
   "metadata": {},
   "source": [
    "You can index over a string:"
   ]
  },
  {
   "cell_type": "code",
   "execution_count": 29,
   "metadata": {},
   "outputs": [
    {
     "name": "stdout",
     "output_type": "stream",
     "text": [
      "1 : W\n",
      "2 : e\n",
      "3 : l\n",
      "4 : c\n",
      "5 : o\n",
      "6 : m\n",
      "7 : e\n",
      "8 : !\n"
     ]
    }
   ],
   "source": [
    "for i in firstindex(str):lastindex(str)\n",
    "    println(\"$i : $(str[i])\")\n",
    "end"
   ]
  },
  {
   "cell_type": "markdown",
   "metadata": {},
   "source": [
    "But strings naturally act as a collection of characters:"
   ]
  },
  {
   "cell_type": "code",
   "execution_count": 30,
   "metadata": {},
   "outputs": [
    {
     "name": "stdout",
     "output_type": "stream",
     "text": [
      "W\n",
      "e\n",
      "l\n",
      "c\n",
      "o\n",
      "m\n",
      "e\n",
      "!\n"
     ]
    }
   ],
   "source": [
    "for c in str\n",
    "    println(c)\n",
    "end"
   ]
  },
  {
   "cell_type": "markdown",
   "metadata": {},
   "source": [
    "Out of bound indexes, such as negative index, are illegal and generates error; it is not indexing from the back of the string as in some other languages."
   ]
  },
  {
   "cell_type": "code",
   "execution_count": 31,
   "metadata": {},
   "outputs": [
    {
     "ename": "BoundsError",
     "evalue": "BoundsError: attempt to access String\n  at index [-1]",
     "output_type": "error",
     "traceback": [
      "BoundsError: attempt to access String\n  at index [-1]",
      "",
      "Stacktrace:",
      " [1] checkbounds at .\\strings\\basic.jl:194 [inlined]",
      " [2] codeunit at .\\strings\\string.jl:89 [inlined]",
      " [3] getindex(::String, ::Int64) at .\\strings\\string.jl:210",
      " [4] top-level scope at In[31]:1"
     ]
    }
   ],
   "source": [
    "println(str[-1])"
   ]
  },
  {
   "cell_type": "code",
   "execution_count": 32,
   "metadata": {},
   "outputs": [
    {
     "ename": "BoundsError",
     "evalue": "BoundsError: attempt to access String\n  at index [9]",
     "output_type": "error",
     "traceback": [
      "BoundsError: attempt to access String\n  at index [9]",
      "",
      "Stacktrace:",
      " [1] checkbounds at .\\strings\\basic.jl:194 [inlined]",
      " [2] codeunit at .\\strings\\string.jl:89 [inlined]",
      " [3] getindex(::String, ::Int64) at .\\strings\\string.jl:210",
      " [4] top-level scope at In[32]:1"
     ]
    }
   ],
   "source": [
    "println(str[end+1])"
   ]
  },
  {
   "cell_type": "markdown",
   "metadata": {},
   "source": [
    "Range indexing will copy a portion of the string into another string:"
   ]
  },
  {
   "cell_type": "code",
   "execution_count": 33,
   "metadata": {},
   "outputs": [
    {
     "data": {
      "text/plain": [
       "\"We\""
      ]
     },
     "execution_count": 33,
     "metadata": {},
     "output_type": "execute_result"
    }
   ],
   "source": [
    "str[1:2]        # string of 2 bytes"
   ]
  },
  {
   "cell_type": "code",
   "execution_count": 34,
   "metadata": {},
   "outputs": [
    {
     "data": {
      "text/plain": [
       "\"W\""
      ]
     },
     "execution_count": 34,
     "metadata": {},
     "output_type": "execute_result"
    }
   ],
   "source": [
    "str[1:1]        # 1 byte string"
   ]
  },
  {
   "cell_type": "code",
   "execution_count": 35,
   "metadata": {},
   "outputs": [
    {
     "data": {
      "text/plain": [
       "\"\""
      ]
     },
     "execution_count": 35,
     "metadata": {},
     "output_type": "execute_result"
    }
   ],
   "source": [
    "str[3:1]        # empty string, length 0"
   ]
  },
  {
   "cell_type": "markdown",
   "metadata": {},
   "source": [
    "## Unicode strings\n",
    "\n",
    "Strings use UTF-8 which is a variable-width encoding.\n",
    "ASCII characters – i.e. those with code points less than 0x80 (128) – are encoded as they are in ASCII with a single byte, code points 0x80 and above are encoded using up to four bytes per character.\n",
    "If the string contains only ASCII characters, then byte indexing into the string work like it does in C.\n",
    "However, if the string contains non-ASCII characters, then the valid byte indexes are the first byte of each character.\n",
    "If you index into a string at an invalid index, an error is thrown."
   ]
  },
  {
   "cell_type": "code",
   "execution_count": 36,
   "metadata": {},
   "outputs": [
    {
     "name": "stdout",
     "output_type": "stream",
     "text": [
      "[Julia 真好用！], length is 10, last index is 16.\n"
     ]
    }
   ],
   "source": [
    "str = \"Julia 真好用！\"\n",
    "println(\"[$str], length is $(length(str)), last index is $(lastindex(str)).\")"
   ]
  },
  {
   "cell_type": "markdown",
   "metadata": {},
   "source": [
    "You can see that the length is not the same as the last byte index, this is because the three characters of 真好用 take three bytes each to encode.\n",
    "Julia's iterator works as before:"
   ]
  },
  {
   "cell_type": "code",
   "execution_count": 37,
   "metadata": {},
   "outputs": [
    {
     "name": "stdout",
     "output_type": "stream",
     "text": [
      "J\n",
      "u\n",
      "l\n",
      "i\n",
      "a\n",
      " \n",
      "真\n",
      "好\n",
      "用\n",
      "！\n"
     ]
    }
   ],
   "source": [
    "for c in str\n",
    "    println(c)\n",
    "end"
   ]
  },
  {
   "cell_type": "markdown",
   "metadata": {},
   "source": [
    "To index over the string, use `eachindex()`:"
   ]
  },
  {
   "cell_type": "code",
   "execution_count": 38,
   "metadata": {},
   "outputs": [
    {
     "name": "stdout",
     "output_type": "stream",
     "text": [
      "1 : J\n",
      "2 : u\n",
      "3 : l\n",
      "4 : i\n",
      "5 : a\n",
      "6 :  \n",
      "7 : 真\n",
      "10 : 好\n",
      "13 : 用\n",
      "16 : ！\n"
     ]
    }
   ],
   "source": [
    "for i in eachindex(str)\n",
    "    println(\"$i : $(str[i])\")\n",
    "end"
   ]
  },
  {
   "cell_type": "markdown",
   "metadata": {},
   "source": [
    "## String Operations\n",
    "\n",
    "The function `string(...)` can concatenate any type of arguments, very useful for printing:"
   ]
  },
  {
   "cell_type": "code",
   "execution_count": 39,
   "metadata": {},
   "outputs": [
    {
     "data": {
      "text/plain": [
       "\"abcd好123456.78\""
      ]
     },
     "execution_count": 39,
     "metadata": {},
     "output_type": "execute_result"
    }
   ],
   "source": [
    "string('a', 'b', \"cd\", '好', 123, 456.78)"
   ]
  },
  {
   "cell_type": "markdown",
   "metadata": {},
   "source": [
    "Concatenation of Char and String can also be done with the **\\*** operator:"
   ]
  },
  {
   "cell_type": "code",
   "execution_count": 40,
   "metadata": {},
   "outputs": [
    {
     "data": {
      "text/plain": [
       "\"abcd好\""
      ]
     },
     "execution_count": 40,
     "metadata": {},
     "output_type": "execute_result"
    }
   ],
   "source": [
    "'a' * 'b' * \"cd\" * '好'"
   ]
  },
  {
   "cell_type": "markdown",
   "metadata": {},
   "source": [
    "## Non-Standard String Literals\n",
    "\n",
    "String literals undergo mild transformation of backslash character pairs, e.g., \\n is converted to the single character of newline.\n",
    "There are cases where you want to stop this transform or use other interpretation.\n",
    "Julia has four non-standard strings that can make your life easier:\n",
    "\n",
    "- \"...\" is normal string literal, `\\` escape and `\\u \\U` are processed as are $variable interpolation\n",
    "\n",
    "- raw\"...\" for raw string literal, it is just what it is, nothing has special meaning. One place where it is quite useful is turning off `\\` escape processing of Windows path names.\n",
    "\n",
    "- r\"...\" is regular expression literal, this makes it much easier to type in a regular expression without the interference of normal string translation. Regular expression processing is built-in in Julia.\n",
    "\n",
    "- b\"...\" for byte array literal, accepts ASCII, octal and Unicode escape sequences and translates them into bytes\n",
    "\n",
    "- v\"...\" for version literal, e.g., v\"major.minor.patch-annotation\", useful for testing software versions"
   ]
  }
 ],
 "metadata": {
  "kernelspec": {
   "display_name": "Julia 1.4.0",
   "language": "julia",
   "name": "julia-1.4"
  },
  "language_info": {
   "file_extension": ".jl",
   "mimetype": "application/julia",
   "name": "julia",
   "version": "1.4.0"
  }
 },
 "nbformat": 4,
 "nbformat_minor": 4
}
