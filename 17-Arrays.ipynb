{
 "cells": [
  {
   "cell_type": "markdown",
   "metadata": {},
   "source": [
    "# Multi-dimensional arrays\n",
    "\n",
    "When we say Scientific Computing, manipulating vectors, matrices, tensors and higher dimensional arrays immediately come to mind.\n",
    "An array is a collection of objects stored in a multi-dimensional grid.\n",
    "In describing an array, we speak of:\n",
    "\n",
    "- shape of the array\n",
    "    - number of dimensions (1-D vector, 2-D matrix, 3-D tensor,...)\n",
    "    - size along each dimention\n",
    "\n",
    "\n",
    "- element type\n",
    "    - an array can hold any type, you can have a vector of vectors or a matrix of tensors, in this sense arrays are nestable\n",
    "    - scientific computing frequently use Float64 and Int32"
   ]
  },
  {
   "cell_type": "markdown",
   "metadata": {},
   "source": [
    "## Array inspection\n",
    "\n",
    "We can use the following functions to understand the structure of an array:\n",
    "\n",
    "Function | Description\n",
    "-----|--------------\n",
    "ndims(A) | the number of dimensions of A\n",
    "size(A) | a tuple of the dimensions of A, length is ndims()\n",
    "size(A,n) | the size of A along dimension n\n",
    "axes(A) | a tuple containing the valid indices of A\n",
    "axes(A,n) | a range expressing the valid indices along dimension n\n",
    "length(A) | the number of elements in A\n",
    "eltype(A) | the type of the elements contained in A\n",
    "eachindex(A) | an efficient iterator for visiting each position in A\n",
    "strides(A) | a tuple of the strides in each dimension\n",
    "stride(A,k) | the stride (linear index distance between adjacent elements) along dimension k"
   ]
  },
  {
   "cell_type": "markdown",
   "metadata": {},
   "source": [
    "## Examples\n",
    "\n",
    "Here's a **vector**:"
   ]
  },
  {
   "cell_type": "code",
   "execution_count": 1,
   "metadata": {},
   "outputs": [
    {
     "data": {
      "text/plain": [
       "4-element Array{Int64,1}:\n",
       " 1\n",
       " 2\n",
       " 3\n",
       " 4"
      ]
     },
     "execution_count": 1,
     "metadata": {},
     "output_type": "execute_result"
    }
   ],
   "source": [
    "v = [1, 2, 3, 4]"
   ]
  },
  {
   "cell_type": "markdown",
   "metadata": {},
   "source": [
    "\"Array{Int64,1}\" says it is a 1 dimensional array containg Int64 elements, \"12-element\" says it has 12 elements."
   ]
  },
  {
   "cell_type": "code",
   "execution_count": 2,
   "metadata": {},
   "outputs": [
    {
     "data": {
      "text/plain": [
       "Array{Int64,1}"
      ]
     },
     "execution_count": 2,
     "metadata": {},
     "output_type": "execute_result"
    }
   ],
   "source": [
    "typeof(v)             # typeof() says it is an array"
   ]
  },
  {
   "cell_type": "code",
   "execution_count": 3,
   "metadata": {},
   "outputs": [
    {
     "data": {
      "text/plain": [
       "1"
      ]
     },
     "execution_count": 3,
     "metadata": {},
     "output_type": "execute_result"
    }
   ],
   "source": [
    "ndims(v)"
   ]
  },
  {
   "cell_type": "code",
   "execution_count": 4,
   "metadata": {},
   "outputs": [
    {
     "data": {
      "text/plain": [
       "4"
      ]
     },
     "execution_count": 4,
     "metadata": {},
     "output_type": "execute_result"
    }
   ],
   "source": [
    "length(v)"
   ]
  },
  {
   "cell_type": "code",
   "execution_count": 5,
   "metadata": {},
   "outputs": [
    {
     "data": {
      "text/plain": [
       "Int64"
      ]
     },
     "execution_count": 5,
     "metadata": {},
     "output_type": "execute_result"
    }
   ],
   "source": [
    "eltype(v)"
   ]
  },
  {
   "cell_type": "markdown",
   "metadata": {},
   "source": [
    "Here's a **matrix**:"
   ]
  },
  {
   "cell_type": "code",
   "execution_count": 6,
   "metadata": {},
   "outputs": [
    {
     "data": {
      "text/plain": [
       "4×3 Array{Int64,2}:\n",
       " 1  5   9\n",
       " 2  6  10\n",
       " 3  7  11\n",
       " 4  8  12"
      ]
     },
     "execution_count": 6,
     "metadata": {},
     "output_type": "execute_result"
    }
   ],
   "source": [
    "matrix = reshape(collect(1:12), 4, 3)        # convert 1:12 to a 4x3 matrix"
   ]
  },
  {
   "cell_type": "markdown",
   "metadata": {},
   "source": [
    "Julia takes the elements and goes down the column (first index) first."
   ]
  },
  {
   "cell_type": "code",
   "execution_count": 7,
   "metadata": {},
   "outputs": [
    {
     "data": {
      "text/plain": [
       "Array{Int64,2}"
      ]
     },
     "execution_count": 7,
     "metadata": {},
     "output_type": "execute_result"
    }
   ],
   "source": [
    "typeof(matrix)"
   ]
  },
  {
   "cell_type": "code",
   "execution_count": 8,
   "metadata": {},
   "outputs": [
    {
     "data": {
      "text/plain": [
       "2"
      ]
     },
     "execution_count": 8,
     "metadata": {},
     "output_type": "execute_result"
    }
   ],
   "source": [
    "ndims(matrix)"
   ]
  },
  {
   "cell_type": "code",
   "execution_count": 9,
   "metadata": {},
   "outputs": [
    {
     "data": {
      "text/plain": [
       "(4, 3)"
      ]
     },
     "execution_count": 9,
     "metadata": {},
     "output_type": "execute_result"
    }
   ],
   "source": [
    "size(matrix)"
   ]
  },
  {
   "cell_type": "code",
   "execution_count": 10,
   "metadata": {},
   "outputs": [
    {
     "data": {
      "text/plain": [
       "12"
      ]
     },
     "execution_count": 10,
     "metadata": {},
     "output_type": "execute_result"
    }
   ],
   "source": [
    "length(matrix)"
   ]
  },
  {
   "cell_type": "code",
   "execution_count": 11,
   "metadata": {},
   "outputs": [
    {
     "data": {
      "text/plain": [
       "Int64"
      ]
     },
     "execution_count": 11,
     "metadata": {},
     "output_type": "execute_result"
    }
   ],
   "source": [
    "eltype(matrix)"
   ]
  },
  {
   "cell_type": "markdown",
   "metadata": {},
   "source": [
    "Here's a **tensor**:"
   ]
  },
  {
   "cell_type": "code",
   "execution_count": 12,
   "metadata": {},
   "outputs": [
    {
     "data": {
      "text/plain": [
       "2×3×4 Array{Float64,3}:\n",
       "[:, :, 1] =\n",
       " 1.0  3.0  5.0\n",
       " 2.0  4.0  6.0\n",
       "\n",
       "[:, :, 2] =\n",
       " 7.0   9.0  11.0\n",
       " 8.0  10.0  12.0\n",
       "\n",
       "[:, :, 3] =\n",
       " 13.0  15.0  17.0\n",
       " 14.0  16.0  18.0\n",
       "\n",
       "[:, :, 4] =\n",
       " 19.0  21.0  23.0\n",
       " 20.0  22.0  24.0"
      ]
     },
     "execution_count": 12,
     "metadata": {},
     "output_type": "execute_result"
    }
   ],
   "source": [
    "tensor = reshape(collect(1.:24.), 2, 3, 4)        # 2 x 3 x 4 tensor"
   ]
  },
  {
   "cell_type": "code",
   "execution_count": 13,
   "metadata": {},
   "outputs": [
    {
     "data": {
      "text/plain": [
       "Array{Float64,3}"
      ]
     },
     "execution_count": 13,
     "metadata": {},
     "output_type": "execute_result"
    }
   ],
   "source": [
    "typeof(tensor)"
   ]
  },
  {
   "cell_type": "code",
   "execution_count": 14,
   "metadata": {},
   "outputs": [
    {
     "data": {
      "text/plain": [
       "3"
      ]
     },
     "execution_count": 14,
     "metadata": {},
     "output_type": "execute_result"
    }
   ],
   "source": [
    "ndims(tensor)          # sometimes called the rank "
   ]
  },
  {
   "cell_type": "code",
   "execution_count": 15,
   "metadata": {},
   "outputs": [
    {
     "data": {
      "text/plain": [
       "(2, 3, 4)"
      ]
     },
     "execution_count": 15,
     "metadata": {},
     "output_type": "execute_result"
    }
   ],
   "source": [
    "size(tensor)"
   ]
  },
  {
   "cell_type": "code",
   "execution_count": 16,
   "metadata": {},
   "outputs": [
    {
     "data": {
      "text/plain": [
       "24"
      ]
     },
     "execution_count": 16,
     "metadata": {},
     "output_type": "execute_result"
    }
   ],
   "source": [
    "length(tensor)"
   ]
  },
  {
   "cell_type": "code",
   "execution_count": 17,
   "metadata": {},
   "outputs": [
    {
     "data": {
      "text/plain": [
       "Float64"
      ]
     },
     "execution_count": 17,
     "metadata": {},
     "output_type": "execute_result"
    }
   ],
   "source": [
    "eltype(tensor)        # element type"
   ]
  },
  {
   "cell_type": "markdown",
   "metadata": {},
   "source": [
    "What about a **scalar**?"
   ]
  },
  {
   "cell_type": "code",
   "execution_count": 18,
   "metadata": {},
   "outputs": [
    {
     "data": {
      "text/plain": [
       "6.283185307179586"
      ]
     },
     "execution_count": 18,
     "metadata": {},
     "output_type": "execute_result"
    }
   ],
   "source": [
    "scalar = 2pi"
   ]
  },
  {
   "cell_type": "code",
   "execution_count": 19,
   "metadata": {},
   "outputs": [
    {
     "data": {
      "text/plain": [
       "Float64"
      ]
     },
     "execution_count": 19,
     "metadata": {},
     "output_type": "execute_result"
    }
   ],
   "source": [
    "typeof(scalar)"
   ]
  },
  {
   "cell_type": "code",
   "execution_count": 20,
   "metadata": {},
   "outputs": [
    {
     "data": {
      "text/plain": [
       "0"
      ]
     },
     "execution_count": 20,
     "metadata": {},
     "output_type": "execute_result"
    }
   ],
   "source": [
    "ndims(scalar)         # no dimensions"
   ]
  },
  {
   "cell_type": "code",
   "execution_count": 21,
   "metadata": {},
   "outputs": [
    {
     "data": {
      "text/plain": [
       "()"
      ]
     },
     "execution_count": 21,
     "metadata": {},
     "output_type": "execute_result"
    }
   ],
   "source": [
    "size(scalar)          # size of dimensions is empty"
   ]
  },
  {
   "cell_type": "code",
   "execution_count": 22,
   "metadata": {},
   "outputs": [
    {
     "data": {
      "text/plain": [
       "1"
      ]
     },
     "execution_count": 22,
     "metadata": {},
     "output_type": "execute_result"
    }
   ],
   "source": [
    "length(scalar)        # scalar is length 1"
   ]
  },
  {
   "cell_type": "code",
   "execution_count": 23,
   "metadata": {},
   "outputs": [
    {
     "data": {
      "text/plain": [
       "Float64"
      ]
     },
     "execution_count": 23,
     "metadata": {},
     "output_type": "execute_result"
    }
   ],
   "source": [
    "eltype(scalar)        # for scalar"
   ]
  },
  {
   "cell_type": "markdown",
   "metadata": {},
   "source": [
    "A lot of the errors and initial frustration in array operations stems from shape mis-match.\n",
    "Understanding the structure of arrays is crucial in writing and debugging scientific programs."
   ]
  },
  {
   "cell_type": "markdown",
   "metadata": {},
   "source": [
    "## Element ordering\n",
    "\n",
    "Julia's array is **column major**, meaning columns are stored contiguously, or more generally, the first index moves the fastest; this is also how FORTRAN stores arrays.\n",
    "In contrast, C is **row major**, the row is stored contiguously, the last index moves the fastest.\n",
    "Contiguous memory access is fast as they are likely to be in processor cache rather than RAM.\n",
    "\n",
    "If performance is critical, you need to pay attention to how you layout an array in memory.\n",
    "The internal layout also matters if you need to pass arrays to FORTRAN or C. Julia's array is identical to FORTRAN, and C may need the array to be re-arranged.\n",
    "\n",
    "Julia's built-in array is dense array, elements are layed out contiguously in memory.\n",
    "There are packages for other types of arrays such as sparse arrays where only non-zero elements are stored."
   ]
  },
  {
   "cell_type": "markdown",
   "metadata": {},
   "source": [
    "## Creating an array\n",
    "\n",
    "There are numerous ways of creating an array:\n",
    "\n",
    "- from values and shape\n",
    "- create array from shape\n",
    "- mimic or copy another array\n",
    "- by formula or index"
   ]
  },
  {
   "cell_type": "markdown",
   "metadata": {},
   "source": [
    "### Concatenation\n",
    "\n",
    "If you know the values of the array, the easiest way to create the array is to use the `[ ]` square bracket notation with different punctuations:\n",
    "\n",
    "- `[a, b, c, d]` commas denote a 1-D array or Vector, no concatenation happens\n",
    "- `[a b c d]` spaces denote horizontal concatenation\n",
    "- `[a; b; c; d]` semicolon or newline denote vertical concatenation\n",
    "\n",
    "The element type is the smallest type that can store all of the elements."
   ]
  },
  {
   "cell_type": "code",
   "execution_count": 24,
   "metadata": {},
   "outputs": [
    {
     "data": {
      "text/plain": [
       "4-element Array{Int64,1}:\n",
       " 1\n",
       " 2\n",
       " 3\n",
       " 4"
      ]
     },
     "execution_count": 24,
     "metadata": {},
     "output_type": "execute_result"
    }
   ],
   "source": [
    "v = [1, 2, 3, 4]          # , is syntax for 1-D vector"
   ]
  },
  {
   "cell_type": "code",
   "execution_count": 25,
   "metadata": {},
   "outputs": [
    {
     "data": {
      "text/plain": [
       "1×4 Array{Int64,2}:\n",
       " 1  2  3  4"
      ]
     },
     "execution_count": 25,
     "metadata": {},
     "output_type": "execute_result"
    }
   ],
   "source": [
    "m = [1 2 3 4]             # horizontal concatenate of scalars, 2-D matrix"
   ]
  },
  {
   "cell_type": "code",
   "execution_count": 26,
   "metadata": {},
   "outputs": [
    {
     "data": {
      "text/plain": [
       "4-element Array{Int64,1}:\n",
       " 1\n",
       " 2\n",
       " 3\n",
       " 4"
      ]
     },
     "execution_count": 26,
     "metadata": {},
     "output_type": "execute_result"
    }
   ],
   "source": [
    "m = [1; 2; 3; 4]          # vertical concatenate of scalars, 1-D vector"
   ]
  },
  {
   "cell_type": "code",
   "execution_count": 1,
   "metadata": {},
   "outputs": [
    {
     "data": {
      "text/plain": [
       "3×2 Array{Int64,2}:\n",
       " 1  2\n",
       " 3  4\n",
       " 5  6"
      ]
     },
     "execution_count": 1,
     "metadata": {},
     "output_type": "execute_result"
    }
   ],
   "source": [
    "m = [\n",
    "    1 2\n",
    "    3 4\n",
    "    5 6\n",
    "]            # vertical concatenate "
   ]
  },
  {
   "cell_type": "code",
   "execution_count": 2,
   "metadata": {},
   "outputs": [
    {
     "data": {
      "text/plain": [
       "3×2 Array{Int64,2}:\n",
       " 1  2\n",
       " 3  4\n",
       " 5  6"
      ]
     },
     "execution_count": 2,
     "metadata": {},
     "output_type": "execute_result"
    }
   ],
   "source": [
    "m = [1 2; 3 4; 5 6]            # use ; instead of newline"
   ]
  },
  {
   "cell_type": "markdown",
   "metadata": {},
   "source": [
    "If you want an empty vector (that you can append to later):"
   ]
  },
  {
   "cell_type": "code",
   "execution_count": 28,
   "metadata": {},
   "outputs": [
    {
     "data": {
      "text/plain": [
       "0-element Array{Any,1}"
      ]
     },
     "execution_count": 28,
     "metadata": {},
     "output_type": "execute_result"
    }
   ],
   "source": [
    "[]                        # empty vector"
   ]
  },
  {
   "cell_type": "markdown",
   "metadata": {},
   "source": [
    "You can specify element type by prefixing the square bracket with the type you want:"
   ]
  },
  {
   "cell_type": "code",
   "execution_count": 29,
   "metadata": {},
   "outputs": [
    {
     "data": {
      "text/plain": [
       "4-element Array{Float32,1}:\n",
       " 1.0\n",
       " 2.0\n",
       " 3.0\n",
       " 4.0"
      ]
     },
     "execution_count": 29,
     "metadata": {},
     "output_type": "execute_result"
    }
   ],
   "source": [
    "Float32[1, 2, 3, 4]"
   ]
  },
  {
   "cell_type": "markdown",
   "metadata": {},
   "source": [
    "These convenient `[ ]` syntaxes are syntactic sugar for the `cat()` function.\n",
    "\n",
    "Syntax | Function | Description\n",
    "-------|----------|-------------\n",
    "[A; B; C; ...] | vcat | shorthand for `cat(A...; dims=1)`\n",
    "[A B C ...] | hcat | shorthand for `cat(A...; dims=2)`\n",
    "[A B; C D; ...] | hvcat | simultaneous vertical and horizontal concatenation"
   ]
  },
  {
   "cell_type": "markdown",
   "metadata": {},
   "source": [
    "### Vector concatenation\n",
    "\n",
    "Because vectors are one-dimentional, we can't really speak of horizontal and vertical directions, this causes issues with vcat and hcat.\n",
    "Because Julia stores n-dimensional arrays in column major order, it helps to think of vectors as columns when it comes to concatenation.\n",
    "Therefore, vertical concatenation of vectors results in a longer 1-D vector, and horizontal concatenation results in a matrix. \n",
    "\n",
    "What happens internally during concatenation is that all elements are appended serially.\n",
    "vcat interprets the result as a 1-D vector with length of sum of the individual vector lengths which can be different.\n",
    "hcat interprets the result as a 2-D matrix with the shape of (length of vector, number of vector), the vectors must all be of the same length.\n",
    "\n",
    "Suppose we have two vectors as follows:"
   ]
  },
  {
   "cell_type": "code",
   "execution_count": 1,
   "metadata": {},
   "outputs": [
    {
     "data": {
      "text/plain": [
       "5-element Array{Int64,1}:\n",
       " 1\n",
       " 2\n",
       " 3\n",
       " 4\n",
       " 5"
      ]
     },
     "execution_count": 1,
     "metadata": {},
     "output_type": "execute_result"
    }
   ],
   "source": [
    "v1 = [1, 2, 3, 4, 5]"
   ]
  },
  {
   "cell_type": "code",
   "execution_count": 4,
   "metadata": {},
   "outputs": [
    {
     "data": {
      "text/plain": [
       "5-element Array{Int64,1}:\n",
       " 5\n",
       " 4\n",
       " 3\n",
       " 2\n",
       " 1"
      ]
     },
     "execution_count": 4,
     "metadata": {},
     "output_type": "execute_result"
    }
   ],
   "source": [
    "v2 = [5, 4, 3, 2, 1]"
   ]
  },
  {
   "cell_type": "code",
   "execution_count": 6,
   "metadata": {},
   "outputs": [
    {
     "data": {
      "text/plain": [
       "10-element Array{Int64,1}:\n",
       " 1\n",
       " 2\n",
       " 3\n",
       " 4\n",
       " 5\n",
       " 5\n",
       " 4\n",
       " 3\n",
       " 2\n",
       " 1"
      ]
     },
     "execution_count": 6,
     "metadata": {},
     "output_type": "execute_result"
    }
   ],
   "source": [
    "[v1; v2]                # vcat - think of ; as newline"
   ]
  },
  {
   "cell_type": "code",
   "execution_count": 6,
   "metadata": {},
   "outputs": [
    {
     "data": {
      "text/plain": [
       "5×4 Array{Int64,2}:\n",
       " 1  5  1  5\n",
       " 2  4  2  4\n",
       " 3  3  3  3\n",
       " 4  2  4  2\n",
       " 5  1  5  1"
      ]
     },
     "execution_count": 6,
     "metadata": {},
     "output_type": "execute_result"
    }
   ],
   "source": [
    "[v1 v2 v1 v2]            # hcat"
   ]
  },
  {
   "cell_type": "markdown",
   "metadata": {},
   "source": [
    "Remember the , is an array constructor, it separates elements of the array,"
   ]
  },
  {
   "cell_type": "code",
   "execution_count": 8,
   "metadata": {},
   "outputs": [
    {
     "data": {
      "text/plain": [
       "2-element Array{Array{Int64,1},1}:\n",
       " [1, 2, 3, 4, 5]\n",
       " [5, 4, 3, 2, 1]"
      ]
     },
     "execution_count": 8,
     "metadata": {},
     "output_type": "execute_result"
    }
   ],
   "source": [
    "[v1, v2]        # 2 element array, each of the element is an array; a vector of vectors"
   ]
  },
  {
   "cell_type": "markdown",
   "metadata": {},
   "source": [
    "### Shape specification\n",
    "\n",
    "When you know the shape of the array, use the `Array()` function:\n",
    "\n",
    "1. `Array{T}(init, dims...)`\n",
    "\n",
    "2. `Array{T,N}(init, dims...)`, `Vector{T}` is alias for `Array{T,1}`, `Matrix{T}` is alias for `Array{T,2}`\n",
    "\n",
    "where:\n",
    "\n",
    "- **{T}** and **{T,N}** are optional\n",
    "\n",
    "- **T** is the type such as Float64 or Int\n",
    "\n",
    "- **N** optional, is the number of dimensions (rank) of the array\n",
    "    - if not specified, it is length(dims...)\n",
    "    - if it is specified, it must agree with length(dims...)\n",
    "\n",
    "\n",
    "- **init** is an initializer\n",
    "    - **undef** for uninitialized elements (whatever is currently in the allocated memory)\n",
    "    - **nothing** initialize with nothing, T of Union{Nothing, xxx} is required\n",
    "    - **missing** for initialization with missing type, T of Union{Missing, xxx} is required\n",
    "    \n",
    "    \n",
    "- **dims...** is the size of each dimension of the array, it can be a comma separated sequence of integers or a tuple of integers\n",
    "\n",
    "You can also use these functions:\n",
    "\n",
    "3. **`zeros(T, dims...)`** for an array of 0's\n",
    "\n",
    "4. **`ones(T, dims...)`** for an array of 1's\n",
    "\n",
    "5. **`fill(x, dims...)`** for an array filled with x\n",
    "\n",
    "6. **`trues(dims...)`** for a BitArray of trues\n",
    "\n",
    "7. **`falses(dims...)`** for a BitArray of falses\n",
    "\n",
    "8. **`rand(T, dims...)`** for an array filled with random numbers in the range \\[0, 1)\n",
    "\n",
    "9. **`randn(T, dims...)`** for an array filled with standard normal random numbers\n",
    "\n",
    "10. **`Matrix{T}(I, m, n)`** for identity matrix (needs the *LinearAlgebra* package)\n",
    "\n",
    "**T** is optional."
   ]
  },
  {
   "cell_type": "markdown",
   "metadata": {},
   "source": [
    "Other than Data Science and Statistics, it is unusual for arrays to have missing values.\n",
    "If your array has missing's, because Missing is a type not a value, you need to explicit specify a Union type,\n",
    "e.g., if your array elements are Float64 and may be missing, the type is `Union{Missing, Float64}`.\n",
    "If you want to use nothing (which will cause program to stop), you can use `Union{nothing, Float64}`.\n",
    "\n",
    "Julia is built for performance, it generates very efficient arithmetic code for arrays.\n",
    "Missing value checking before arithmetic, or execute and catch condition, incurs a heavy performance penalty in array processing.\n",
    "By telling Julia whether a variable may have missing value via its type, Julia knows whether to use fast arithmetic code or the slower code with missing handling.\n",
    "Languages that are not type aware will have a performance penalty somewhere.\n",
    "Julia's decision to implement missing as a type rather than as a special value is deliberate based on performance considerations."
   ]
  },
  {
   "cell_type": "code",
   "execution_count": 30,
   "metadata": {},
   "outputs": [
    {
     "data": {
      "text/plain": [
       "5-element Array{Union{Missing, Int64},1}:\n",
       " missing\n",
       " missing\n",
       " missing\n",
       " missing\n",
       " missing"
      ]
     },
     "execution_count": 30,
     "metadata": {},
     "output_type": "execute_result"
    }
   ],
   "source": [
    "v = Vector{Union{Missing, Int64}}(missing, 5)         # 5 element vector of Int64/missing with missing"
   ]
  },
  {
   "cell_type": "code",
   "execution_count": 31,
   "metadata": {},
   "outputs": [
    {
     "data": {
      "text/plain": [
       "4×4 Array{Float64,2}:\n",
       " 0.0  0.0  0.0  0.0\n",
       " 0.0  0.0  0.0  0.0\n",
       " 0.0  0.0  0.0  0.0\n",
       " 0.0  0.0  0.0  0.0"
      ]
     },
     "execution_count": 31,
     "metadata": {},
     "output_type": "execute_result"
    }
   ],
   "source": [
    "m = zeros(4, 4)         # 4x4 matrix of 0's"
   ]
  },
  {
   "cell_type": "markdown",
   "metadata": {},
   "source": [
    "### Another array\n",
    "\n",
    "Variables are just names bound to values, thus the assignment operator is really a binding operator, it binds the RHS (right hand side) value to the LHS (left hand side) name.\n",
    "This avoids copying the RHS object (expensive), the LHS name is merely set to point to the RHS object (fast), this is what all dynamic languages do.\n",
    "When you put an array on the RHS, what happens is the LHS name becomes a new binding to the same RHS object, the object is not copied.\n",
    "\n",
    "You can obtain the address of an object with `objectid`:"
   ]
  },
  {
   "cell_type": "code",
   "execution_count": 32,
   "metadata": {},
   "outputs": [
    {
     "name": "stdout",
     "output_type": "stream",
     "text": [
      "1856087536225187956"
     ]
    }
   ],
   "source": [
    "a = [1, 2, 3]\n",
    "print(objectid(a))"
   ]
  },
  {
   "cell_type": "code",
   "execution_count": 33,
   "metadata": {},
   "outputs": [
    {
     "data": {
      "text/plain": [
       "true"
      ]
     },
     "execution_count": 33,
     "metadata": {},
     "output_type": "execute_result"
    }
   ],
   "source": [
    "b = a\n",
    "b === a          # object identity check"
   ]
  },
  {
   "cell_type": "code",
   "execution_count": 34,
   "metadata": {},
   "outputs": [
    {
     "name": "stdout",
     "output_type": "stream",
     "text": [
      "1856087536225187956   1856087536225187956"
     ]
    }
   ],
   "source": [
    "print(objectid(a), \"   \", objectid(b))"
   ]
  },
  {
   "cell_type": "markdown",
   "metadata": {},
   "source": [
    "The two names are bound to the same object, they are synonymous.\n",
    "You can update the object with either name:"
   ]
  },
  {
   "cell_type": "code",
   "execution_count": 35,
   "metadata": {},
   "outputs": [
    {
     "data": {
      "text/plain": [
       "3-element Array{Int64,1}:\n",
       " 1\n",
       " 5\n",
       " 7"
      ]
     },
     "execution_count": 35,
     "metadata": {},
     "output_type": "execute_result"
    }
   ],
   "source": [
    "a[2] = 5\n",
    "b[3] = 7\n",
    "a"
   ]
  },
  {
   "cell_type": "code",
   "execution_count": 36,
   "metadata": {},
   "outputs": [
    {
     "data": {
      "text/plain": [
       "3-element Array{Int64,1}:\n",
       " 1\n",
       " 5\n",
       " 7"
      ]
     },
     "execution_count": 36,
     "metadata": {},
     "output_type": "execute_result"
    }
   ],
   "source": [
    "b"
   ]
  },
  {
   "cell_type": "markdown",
   "metadata": {},
   "source": [
    "This is a large source of error for beginners.  We tend to think of different names as different objects but assignment doesn't copy, you think you are manipulating two variables, but they are in fact the same object, the program will then behave differently from what you expect and the source of error is not apparent and difficult to find.\n",
    "When you have multiple names pointing to the same object, the program becomes hard to reason about.\n",
    "\n",
    "If you want another copy of the object, you need to explicitly copy it with **`copy()`**:"
   ]
  },
  {
   "cell_type": "code",
   "execution_count": 37,
   "metadata": {},
   "outputs": [
    {
     "name": "stdout",
     "output_type": "stream",
     "text": [
      "1856087536225187956   14828956092135537553"
     ]
    }
   ],
   "source": [
    "b = copy(a)\n",
    "print(objectid(a), \"   \", objectid(b))"
   ]
  },
  {
   "cell_type": "markdown",
   "metadata": {},
   "source": [
    "Now a and b are two separate objects.\n",
    "\n",
    "`copy` is what's known as a shallow copy, it copies the outer structure but not the inner elements (remember arrays can hold anything including other arrays).\n",
    "If your array elements are numeric primitives, copy() is fine.\n",
    "But if your array elements are not primitive types, you need to use `deepcopy` which recursively copies everything giving a fully independent object."
   ]
  },
  {
   "cell_type": "markdown",
   "metadata": {},
   "source": [
    "You can also alter the shape of an array but keep the underlying data unchanged with `reshape(A, dims...)`:"
   ]
  },
  {
   "cell_type": "code",
   "execution_count": 38,
   "metadata": {},
   "outputs": [
    {
     "data": {
      "text/plain": [
       "12-element Array{Int64,1}:\n",
       "  1\n",
       "  2\n",
       "  3\n",
       "  4\n",
       "  5\n",
       "  6\n",
       "  7\n",
       "  8\n",
       "  9\n",
       " 10\n",
       " 11\n",
       " 12"
      ]
     },
     "execution_count": 38,
     "metadata": {},
     "output_type": "execute_result"
    }
   ],
   "source": [
    "a = [1, 2, 3, 4, 5, 6, 7, 8, 9, 10, 11, 12]"
   ]
  },
  {
   "cell_type": "code",
   "execution_count": 39,
   "metadata": {},
   "outputs": [
    {
     "data": {
      "text/plain": [
       "2×6 Array{Int64,2}:\n",
       " 1  3  5  7   9  11\n",
       " 2  4  6  8  10  12"
      ]
     },
     "execution_count": 39,
     "metadata": {},
     "output_type": "execute_result"
    }
   ],
   "source": [
    "reshape(a, 2, 6)"
   ]
  },
  {
   "cell_type": "code",
   "execution_count": 40,
   "metadata": {},
   "outputs": [
    {
     "data": {
      "text/plain": [
       "4×3 Array{Int64,2}:\n",
       " 1  5   9\n",
       " 2  6  10\n",
       " 3  7  11\n",
       " 4  8  12"
      ]
     },
     "execution_count": 40,
     "metadata": {},
     "output_type": "execute_result"
    }
   ],
   "source": [
    "reshape(a, 4, 3)"
   ]
  },
  {
   "cell_type": "code",
   "execution_count": 41,
   "metadata": {},
   "outputs": [
    {
     "data": {
      "text/plain": [
       "2×2×3 Array{Int64,3}:\n",
       "[:, :, 1] =\n",
       " 1  3\n",
       " 2  4\n",
       "\n",
       "[:, :, 2] =\n",
       " 5  7\n",
       " 6  8\n",
       "\n",
       "[:, :, 3] =\n",
       "  9  11\n",
       " 10  12"
      ]
     },
     "execution_count": 41,
     "metadata": {},
     "output_type": "execute_result"
    }
   ],
   "source": [
    "reshape(a, 2, 2, 3)"
   ]
  },
  {
   "cell_type": "markdown",
   "metadata": {},
   "source": [
    "You can also make another similar array that's uninitialized and optionally change element type and reshape with `similar(A, T, dims)`:"
   ]
  },
  {
   "cell_type": "code",
   "execution_count": 42,
   "metadata": {},
   "outputs": [
    {
     "data": {
      "text/plain": [
       "4-element Array{Int64,1}:\n",
       " 174426112\n",
       " 164509872\n",
       " 355845344\n",
       " 163389984"
      ]
     },
     "execution_count": 42,
     "metadata": {},
     "output_type": "execute_result"
    }
   ],
   "source": [
    "a = [1, 2, 3, 4]\n",
    "similar(a)"
   ]
  },
  {
   "cell_type": "code",
   "execution_count": 43,
   "metadata": {},
   "outputs": [
    {
     "data": {
      "text/plain": [
       "4-element Array{Float64,1}:\n",
       " 1.73835606e-315\n",
       " 1.73835622e-315\n",
       " 1.738333137e-315\n",
       " 2.121995792e-314"
      ]
     },
     "execution_count": 43,
     "metadata": {},
     "output_type": "execute_result"
    }
   ],
   "source": [
    "similar(a, Float64)"
   ]
  },
  {
   "cell_type": "code",
   "execution_count": 44,
   "metadata": {},
   "outputs": [
    {
     "data": {
      "text/plain": [
       "2×2 Array{Int64,2}:\n",
       " 281474976710656  0\n",
       "      4294967296  0"
      ]
     },
     "execution_count": 44,
     "metadata": {},
     "output_type": "execute_result"
    }
   ],
   "source": [
    "similar(a, 2, 2)"
   ]
  },
  {
   "cell_type": "markdown",
   "metadata": {},
   "source": [
    "And you can fill an existing array with another value with `fill!(A, x)`.\n",
    "Notice the `!` which is a Julia convention to say you are mutating or changing the arguments.\n",
    "Often it is preferable to update an object in place rather than always returning a new updated copy."
   ]
  },
  {
   "cell_type": "code",
   "execution_count": 45,
   "metadata": {},
   "outputs": [
    {
     "data": {
      "text/plain": [
       "4-element Array{Int64,1}:\n",
       " 8\n",
       " 8\n",
       " 8\n",
       " 8"
      ]
     },
     "execution_count": 45,
     "metadata": {},
     "output_type": "execute_result"
    }
   ],
   "source": [
    "fill!(a, 8)"
   ]
  },
  {
   "cell_type": "markdown",
   "metadata": {},
   "source": [
    "### Comprehension\n",
    "\n",
    "Comprehension is a concise way to construct an array using an expression, the syntax is more compact than an equivalent do-loop:"
   ]
  },
  {
   "cell_type": "code",
   "execution_count": 46,
   "metadata": {},
   "outputs": [
    {
     "data": {
      "text/plain": [
       "10-element Array{Int64,1}:\n",
       "   1\n",
       "   4\n",
       "   9\n",
       "  16\n",
       "  25\n",
       "  36\n",
       "  49\n",
       "  64\n",
       "  81\n",
       " 100"
      ]
     },
     "execution_count": 46,
     "metadata": {},
     "output_type": "execute_result"
    }
   ],
   "source": [
    "[x^2 for x=1:10]"
   ]
  },
  {
   "cell_type": "markdown",
   "metadata": {},
   "source": [
    "If you use multiple index expression separated by comma's, it will create n-D array:"
   ]
  },
  {
   "cell_type": "code",
   "execution_count": 47,
   "metadata": {},
   "outputs": [
    {
     "data": {
      "text/plain": [
       "10×10 Array{Int32,2}:\n",
       "  1   2   3   4   5   6   7   8   9   10\n",
       "  2   4   6   8  10  12  14  16  18   20\n",
       "  3   6   9  12  15  18  21  24  27   30\n",
       "  4   8  12  16  20  24  28  32  36   40\n",
       "  5  10  15  20  25  30  35  40  45   50\n",
       "  6  12  18  24  30  36  42  48  54   60\n",
       "  7  14  21  28  35  42  49  56  63   70\n",
       "  8  16  24  32  40  48  56  64  72   80\n",
       "  9  18  27  36  45  54  63  72  81   90\n",
       " 10  20  30  40  50  60  70  80  90  100"
      ]
     },
     "execution_count": 47,
     "metadata": {},
     "output_type": "execute_result"
    }
   ],
   "source": [
    "Int32[x * y for x in 1:10, y in 1:10]        # multiplication table"
   ]
  },
  {
   "cell_type": "code",
   "execution_count": 48,
   "metadata": {},
   "outputs": [
    {
     "data": {
      "text/plain": [
       "10×10 Array{Int32,2}:\n",
       " 0  1  1  1  1  1  1  1  1  1\n",
       " 0  0  2  2  2  2  2  2  2  2\n",
       " 0  1  0  3  3  3  3  3  3  3\n",
       " 0  0  1  0  4  4  4  4  4  4\n",
       " 0  1  2  1  0  5  5  5  5  5\n",
       " 0  0  0  2  1  0  6  6  6  6\n",
       " 0  1  1  3  2  1  0  7  7  7\n",
       " 0  0  2  0  3  2  1  0  8  8\n",
       " 0  1  0  1  4  3  2  1  0  9\n",
       " 0  0  1  2  0  4  3  2  1  0"
      ]
     },
     "execution_count": 48,
     "metadata": {},
     "output_type": "execute_result"
    }
   ],
   "source": [
    "Int32[x % y for x in 1:10, y in 1:10]        # remainder table"
   ]
  },
  {
   "cell_type": "markdown",
   "metadata": {},
   "source": [
    "The dimension is governed by the for indices, the element type is governed by the formula ahead of for.\n",
    "If instead, you use multiple for, the result is serialized:"
   ]
  },
  {
   "cell_type": "code",
   "execution_count": 49,
   "metadata": {},
   "outputs": [
    {
     "data": {
      "text/plain": [
       "12-element Array{Tuple{Int64,Int64},1}:\n",
       " (1, 1)\n",
       " (1, 2)\n",
       " (1, 3)\n",
       " (2, 1)\n",
       " (2, 2)\n",
       " (2, 3)\n",
       " (3, 1)\n",
       " (3, 2)\n",
       " (3, 3)\n",
       " (4, 1)\n",
       " (4, 2)\n",
       " (4, 3)"
      ]
     },
     "execution_count": 49,
     "metadata": {},
     "output_type": "execute_result"
    }
   ],
   "source": [
    "[(x, y) for x in 1:4 for y in 1:3]          # like nested for loop"
   ]
  },
  {
   "cell_type": "markdown",
   "metadata": {},
   "source": [
    "You can even filter the results with an additional if:"
   ]
  },
  {
   "cell_type": "code",
   "execution_count": 50,
   "metadata": {},
   "outputs": [
    {
     "data": {
      "text/plain": [
       "6-element Array{Tuple{Int64,Int64},1}:\n",
       " (2, 3)\n",
       " (3, 2)\n",
       " (3, 3)\n",
       " (4, 1)\n",
       " (4, 2)\n",
       " (4, 3)"
      ]
     },
     "execution_count": 50,
     "metadata": {},
     "output_type": "execute_result"
    }
   ],
   "source": [
    "[(x, y) for x in 1:4 for y in 1:3 if x+y >= 5]"
   ]
  },
  {
   "cell_type": "markdown",
   "metadata": {},
   "source": [
    "### Generator\n",
    "\n",
    "The creation methods above instantiate the array in its entirety in memory.\n",
    "There may be situations where you merely want to pass on a temporary array to some other function to process.\n",
    "You can create a generator simply by removing the enclosing square brackets.\n",
    "When used as an argument in a function, it will iterate and produce values on demand instead of producing the entire array. "
   ]
  },
  {
   "cell_type": "code",
   "execution_count": 51,
   "metadata": {},
   "outputs": [
    {
     "data": {
      "text/plain": [
       "1.5497677311665408"
      ]
     },
     "execution_count": 51,
     "metadata": {},
     "output_type": "execute_result"
    }
   ],
   "source": [
    "sum(1/n^2 for n in 1:10)"
   ]
  },
  {
   "cell_type": "code",
   "execution_count": 52,
   "metadata": {},
   "outputs": [
    {
     "data": {
      "text/plain": [
       "1.6439345666815615"
      ]
     },
     "execution_count": 52,
     "metadata": {},
     "output_type": "execute_result"
    }
   ],
   "source": [
    "sum(1/n^2 for n in 1:1_000)"
   ]
  },
  {
   "cell_type": "code",
   "execution_count": 53,
   "metadata": {},
   "outputs": [
    {
     "data": {
      "text/plain": [
       "1.64493306684877"
      ]
     },
     "execution_count": 53,
     "metadata": {},
     "output_type": "execute_result"
    }
   ],
   "source": [
    "sum(1/n^2 for n in 1:1_000_000)             # Basel number, π²/6, solved by Euler in 1734"
   ]
  },
  {
   "cell_type": "code",
   "execution_count": 54,
   "metadata": {},
   "outputs": [
    {
     "name": "stdout",
     "output_type": "stream",
     "text": [
      "  1.390 ms (0 allocations: 0 bytes)\n"
     ]
    },
    {
     "data": {
      "text/plain": [
       "1.64493306684877"
      ]
     },
     "execution_count": 54,
     "metadata": {},
     "output_type": "execute_result"
    }
   ],
   "source": [
    "using BenchmarkTools\n",
    "@btime sum(1/n^2 for n in 1:1_000_000)      # Basel number, π²/6, solved by Euler in 1734"
   ]
  },
  {
   "cell_type": "code",
   "execution_count": 55,
   "metadata": {},
   "outputs": [
    {
     "data": {
      "text/plain": [
       "1.6449340668482264"
      ]
     },
     "execution_count": 55,
     "metadata": {},
     "output_type": "execute_result"
    }
   ],
   "source": [
    "π^2 / 6."
   ]
  },
  {
   "cell_type": "markdown",
   "metadata": {},
   "source": [
    "## Indexing\n",
    "\n",
    "Julia is very flexible in indexing to support a wide variety of needs.\n",
    "Indexed array expression can read values, and if placed on the LHS of assignment operator, those indexed values can be over-written.\n",
    "The general index form is you provide an expression for each dimension, some commonly used expression are:\n",
    "\n",
    "- A scalar index, an integer\n",
    "\n",
    "- A collection of scalars such as:\n",
    "    - a range like 1:10\n",
    "    - a vector of scalars\n",
    "\n",
    "\n",
    "- `:` to select all indices for that dimension\n",
    "\n",
    "- a boolean array to select true index positions\n",
    "\n",
    "You can also index a multi-dimensional array with a single index, this ignores the multi-dimensionality and treats the array as a vector and indexes by position, this is called **Linear Indexing**."
   ]
  },
  {
   "cell_type": "code",
   "execution_count": 2,
   "metadata": {},
   "outputs": [
    {
     "data": {
      "text/plain": [
       "4×3 Array{Int64,2}:\n",
       " 1  5   9\n",
       " 2  6  10\n",
       " 3  7  11\n",
       " 4  8  12"
      ]
     },
     "execution_count": 2,
     "metadata": {},
     "output_type": "execute_result"
    }
   ],
   "source": [
    "a = reshape(collect(1:12), 4, 3)"
   ]
  },
  {
   "cell_type": "markdown",
   "metadata": {},
   "source": [
    "Linear indexing a matrix:"
   ]
  },
  {
   "cell_type": "code",
   "execution_count": 3,
   "metadata": {},
   "outputs": [
    {
     "data": {
      "text/plain": [
       "4"
      ]
     },
     "execution_count": 3,
     "metadata": {},
     "output_type": "execute_result"
    }
   ],
   "source": [
    "a[4]                              # Linear indexing with a scalar"
   ]
  },
  {
   "cell_type": "code",
   "execution_count": 4,
   "metadata": {},
   "outputs": [
    {
     "data": {
      "text/plain": [
       "3-element Array{Int64,1}:\n",
       " 1\n",
       " 4\n",
       " 9"
      ]
     },
     "execution_count": 4,
     "metadata": {},
     "output_type": "execute_result"
    }
   ],
   "source": [
    "a[[1, 4, 9]]                      # Linear indexing with a vector"
   ]
  },
  {
   "cell_type": "code",
   "execution_count": 5,
   "metadata": {},
   "outputs": [
    {
     "data": {
      "text/plain": [
       "(1, 6, 11)"
      ]
     },
     "execution_count": 5,
     "metadata": {},
     "output_type": "execute_result"
    }
   ],
   "source": [
    "a[1, 1], a[2, 2], a[3, 3]          # scalar for each dimention"
   ]
  },
  {
   "cell_type": "code",
   "execution_count": 6,
   "metadata": {},
   "outputs": [
    {
     "data": {
      "text/plain": [
       "4-element Array{Int64,1}:\n",
       " 5\n",
       " 6\n",
       " 7\n",
       " 8"
      ]
     },
     "execution_count": 6,
     "metadata": {},
     "output_type": "execute_result"
    }
   ],
   "source": [
    "a[:, 2]                            # 2nd column"
   ]
  },
  {
   "cell_type": "code",
   "execution_count": 7,
   "metadata": {},
   "outputs": [
    {
     "data": {
      "text/plain": [
       "3-element Array{Int64,1}:\n",
       "  3\n",
       "  7\n",
       " 11"
      ]
     },
     "execution_count": 7,
     "metadata": {},
     "output_type": "execute_result"
    }
   ],
   "source": [
    "a[3, :]                            # 3rd row"
   ]
  },
  {
   "cell_type": "code",
   "execution_count": 8,
   "metadata": {},
   "outputs": [
    {
     "data": {
      "text/plain": [
       "2×2 Array{Int64,2}:\n",
       " 1   9\n",
       " 3  11"
      ]
     },
     "execution_count": 8,
     "metadata": {},
     "output_type": "execute_result"
    }
   ],
   "source": [
    "a[[1, 3], [1, 3]]                  # a vector for each dimention"
   ]
  },
  {
   "cell_type": "code",
   "execution_count": 10,
   "metadata": {},
   "outputs": [
    {
     "data": {
      "text/plain": [
       "3×2 Array{Int64,2}:\n",
       " 1   9\n",
       " 3  11\n",
       " 4  12"
      ]
     },
     "execution_count": 10,
     "metadata": {},
     "output_type": "execute_result"
    }
   ],
   "source": [
    "a[[true, false, true, true], [1, 3]]     # boolean mask"
   ]
  },
  {
   "cell_type": "code",
   "execution_count": 11,
   "metadata": {},
   "outputs": [
    {
     "data": {
      "text/plain": [
       "4×3 Array{Int64,2}:\n",
       " 11  5  33\n",
       "  2  6  10\n",
       " 22  7  44\n",
       "  4  8  12"
      ]
     },
     "execution_count": 11,
     "metadata": {},
     "output_type": "execute_result"
    }
   ],
   "source": [
    "a[[true, false, true, false], [1, 3]] = [11 33; 22 44]    # assignment\n",
    "a"
   ]
  },
  {
   "cell_type": "markdown",
   "metadata": {},
   "source": [
    "## Iterator\n",
    "\n",
    "There are two general methods of iterating over all elements of an array, the distinction is whether you want the elements or the indices.\n",
    "To iterate over elements:\n",
    "\n",
    "```\n",
    "for v in array\n",
    "    # do something with v\n",
    "end\n",
    "```"
   ]
  },
  {
   "cell_type": "code",
   "execution_count": 12,
   "metadata": {},
   "outputs": [
    {
     "name": "stdout",
     "output_type": "stream",
     "text": [
      "11\n",
      "2\n",
      "22\n",
      "4\n",
      "5\n",
      "6\n",
      "7\n",
      "8\n",
      "33\n",
      "10\n",
      "44\n",
      "12\n"
     ]
    }
   ],
   "source": [
    "for x in a\n",
    "    println(x)\n",
    "end"
   ]
  },
  {
   "cell_type": "markdown",
   "metadata": {},
   "source": [
    "To iterate over indices:\n",
    "\n",
    "```\n",
    "for i in eachindex(A)\n",
    "    # Do something with i and/or A[i]\n",
    "end\n",
    "```"
   ]
  },
  {
   "cell_type": "code",
   "execution_count": 13,
   "metadata": {},
   "outputs": [
    {
     "name": "stdout",
     "output_type": "stream",
     "text": [
      "1   11\n",
      "2   2\n",
      "3   22\n",
      "4   4\n",
      "5   5\n",
      "6   6\n",
      "7   7\n",
      "8   8\n",
      "9   33\n",
      "10   10\n",
      "11   44\n",
      "12   12\n"
     ]
    }
   ],
   "source": [
    "for i in eachindex(a)\n",
    "    println(i, \"   \", a[i])\n",
    "end"
   ]
  },
  {
   "cell_type": "code",
   "execution_count": 17,
   "metadata": {},
   "outputs": [
    {
     "name": "stdout",
     "output_type": "stream",
     "text": [
      "1 1 :  11\n",
      "2 1 :  2\n",
      "3 1 :  22\n",
      "4 1 :  4\n",
      "1 2 :  5\n",
      "2 2 :  6\n",
      "3 2 :  7\n",
      "4 2 :  8\n",
      "1 3 :  33\n",
      "2 3 :  10\n",
      "3 3 :  44\n",
      "4 3 :  12\n"
     ]
    }
   ],
   "source": [
    "for c in axes(a, 2)                         # for a given column position\n",
    "    for r in axes(a, 1)                     # change 1st index (row) -- go down a column\n",
    "        println(\"$r $c :  $(a[r, c])\")\n",
    "    end\n",
    "end"
   ]
  },
  {
   "cell_type": "code",
   "execution_count": null,
   "metadata": {},
   "outputs": [],
   "source": []
  }
 ],
 "metadata": {
  "kernelspec": {
   "display_name": "Julia 1.4.1",
   "language": "julia",
   "name": "julia-1.4"
  },
  "language_info": {
   "file_extension": ".jl",
   "mimetype": "application/julia",
   "name": "julia",
   "version": "1.4.1"
  },
  "toc-autonumbering": true
 },
 "nbformat": 4,
 "nbformat_minor": 4
}
