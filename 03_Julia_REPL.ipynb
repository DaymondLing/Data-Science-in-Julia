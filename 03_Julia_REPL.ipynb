{
 "cells": [
  {
   "cell_type": "markdown",
   "metadata": {},
   "source": [
    "# Non-interactive script (batch)\n",
    "\n",
    "Invoke a Julia script with arguments:\n",
    "\n",
    "```\n",
    "julia script.jl arg1 arg2 ...\n",
    "```\n",
    "\n",
    "Name of program is found in the global constant `PROGRAM_FILE`.\n",
    "Arguments are in the global constant `ARGS`.\n",
    "\n",
    "```\n",
    "print(\"Name of program is \", PROGRAM_FILE)\n",
    "for arg in ARGS\n",
    "    print(arg)\n",
    "end\n",
    "```\n",
    "\n",
    "The program terminates when it reaches end of file or by explicit `exit(code)` function call.\n",
    "exit() passes code back to the OS as the process return code, code is optional and defaults to 0 indicating successful completion."
   ]
  },
  {
   "cell_type": "markdown",
   "metadata": {},
   "source": [
    "# Command line switches\n",
    "\n",
    "There is a set of switches that control Julia's behaviour.\n",
    "Put them after `julia`, follow them with the `--` delimiter, then julia program and arguments if any.\n",
    "\n",
    "```\n",
    "julia [switches] -- [programfile] [args...]\n",
    "```\n",
    "\n",
    "See [Julia switches](https://docs.julialang.org/en/v1/manual/getting-started/) for available switches.\n",
    "\n",
    "Switch | Switch | Meaning\n",
    "------ | ------ | -------------------\n",
    "-v     | --version | display version\n",
    "-h     | --help    | help\n",
    "-p {N&#124;AUTO} | --procs {N&#124;AUTO} | number of threads to use\n",
    "-q     | --quiet | suppress banner"
   ]
  },
  {
   "cell_type": "markdown",
   "metadata": {},
   "source": [
    "# Interactive session\n",
    "\n",
    "Invoke at operating system prompt without any scipt file starts Julia in an interactive REPL (read-evaluate-print loop):\n",
    "\n",
    "```\n",
    "julia\n",
    "```\n",
    "\n",
    "`exit()` terminates the REPL, or Ctrl-D for immediate exit."
   ]
  },
  {
   "cell_type": "markdown",
   "metadata": {},
   "source": [
    "# REPL\n",
    "\n",
    "There are four REPL modes:\n",
    "\n",
    "- Julia mode: this is where you enter Julia statements, the prompt is `Julia > `.\n",
    "- Pkg model: enter by `]`, prompt is `pkg> `, return to Julia mode by backspace on empty line; this is where you manage packages and environments.\n",
    "- Help mode: enter by `?`, prompt is `help?> `, return to Julia mode by backspace on empty line; this is where you access the Julia help system.\n",
    "- Shell mode: enter by `;`, prompt is `shell> `, return to Julia mode by backspace on empty line; this is where you execute shell commands."
   ]
  },
  {
   "cell_type": "markdown",
   "metadata": {},
   "source": [
    "# IDE\n",
    "\n",
    "The REPL mode is useful for code testing and package management, you shouldn't write large programs in the REPL.\n",
    "There are (at least) three **interfaces** for Julia:\n",
    "\n",
    "1. Atom and Uber-juno. http://docs.junolab.org/latest/man/installation/ this is developed by the group that develops Julia\n",
    "    - Atom https://atom.io/\n",
    "    - Juno https://junolab.org/\n",
    "\n",
    "\n",
    "2. VS Code and Julia extension\n",
    "    - VS Code https://code.visualstudio.com/\n",
    "    - Julia extension https://github.com/julia-vscode/julia-vscode  \n",
    "\n",
    "Both of them are full fledged IDE in their own right, they are useful for editing many large files at once.\n",
    "\n",
    "3. There is also JupyterLab https://jupyterlab.readthedocs.io/en/stable/.\n",
    "Notebooks are useful for sharing code, output and commentary in the same environment, they allow easy sharing of complete work, but they are not good for editing large chunks of code."
   ]
  },
  {
   "cell_type": "markdown",
   "metadata": {},
   "source": [
    "# Julia startup file\n",
    "\n",
    "The file `~/.julia/config/startup.jl` is executed at startup of Julia session, this is where you can put your preferences that you use all the time.\n",
    "\n",
    "You can define exit functions, say `myexit()`, and register it with Julia via the `atexit(myexit)` function call.\n",
    "You can make multiple calls to `atexit()`, the functions are recorded in a LIFO stack, Julia calls them last-in-first-out at exit."
   ]
  },
  {
   "cell_type": "markdown",
   "metadata": {},
   "source": [
    "# Revise\n",
    "\n",
    "Everyone should be using the Revise (https://timholy.github.io/Revise.jl/stable/) package, period.  Here's why.\n",
    "\n",
    "Let's say you are running a program, and it uses (depends on) code in other files or modules.\n",
    "If you make changes to the dependent files, the changes won't be automatically incorporated into your session.\n",
    "you will need to shutdown and restart Julia, reload packages and data for the changes to take effect.\n",
    "This is a disruptive and painful user experience.\n",
    "\n",
    "When you use Revise, it tracks the dependencies and monitors the files.\n",
    "If it detects changes to the dependent files, it will incorporate them into your session automatically.\n",
    "You no longer need to shutdown/restart and reload packages and data, your productivity goes up.\n",
    "\n",
    "Here's how to add Revise:\n",
    "\n",
    "- At the Julia> prompt, execute\n",
    "\n",
    "```\n",
    "using Pkg\n",
    "Pkg.add(\"Revise\")\n",
    "```\n",
    "\n",
    "- At the Pkg> prompt,\n",
    "\n",
    "```\n",
    "add Revise\n",
    "```\n",
    "\n",
    "You should edit your Julia start up file so that Revise is automatically loaded at startup https://timholy.github.io/Revise.jl/stable/config/."
   ]
  }
 ],
 "metadata": {
  "kernelspec": {
   "display_name": "Julia 1.4.0",
   "language": "julia",
   "name": "julia-1.4"
  },
  "language_info": {
   "file_extension": ".jl",
   "mimetype": "application/julia",
   "name": "julia",
   "version": "1.4.0"
  }
 },
 "nbformat": 4,
 "nbformat_minor": 4
}
