{
 "cells": [
  {
   "cell_type": "markdown",
   "metadata": {},
   "source": [
    "# Scientific Languages\n",
    "\n",
    "**Julia**, **Python**, and **R** are three open source languages used for scientific computing today (2020).\n",
    "They all come with a simplistic command line interface where you type in a statement and it is executed immediately, this is the **REPL**, short for read-evaluate-print-loop.\n",
    "The REPL is convenient for testing a few simple statements, it is not suitable for writing large chunks of code.\n",
    "For large projects, you should use an **IDE** or integrated development environment."
   ]
  },
  {
   "cell_type": "markdown",
   "metadata": {},
   "source": [
    "## Language Installation\n",
    "\n",
    "You can download:\n",
    "- Julia from https://julialang.org/\n",
    "- Python from https://www.python.org/\n",
    "- R from\n",
    "    - CRAN R https://cran.r-project.org/\n",
    "    - MRAN R https://mran.microsoft.com/  (Microsoft's version of R with speed enhancements via Intel MKL)\n",
    "\n",
    "You should add them to system **PATH** (or verify that they are there) so that they are accessible from the system command line.\n",
    "This makes using the REPL easy."
   ]
  },
  {
   "cell_type": "markdown",
   "metadata": {},
   "source": [
    "## IDE\n",
    "\n",
    "Everyone has their favourite editor and IDE, use what you are comfortable with. Here are two popular editors:\n",
    "- **Atom** https://atom.io/ is a very flexible open source editor/environment created by GitHub (bought by Microsoft in 2019)\n",
    "- **VS Code** https://code.visualstudio.com/ is a very flexible editor/environment created by Microsoft\n",
    "\n",
    "They are great at editing text, they can work with multiple languages, they are very flexible tools that everyone should have.\n",
    "If you work in multiple languages, they are better than using different IDE for different languages.\n",
    "After all, the tool you use the most is the IDE, you should pick a good one and stick with it as muscle memory is indispensable for productivity.\n",
    "Install both if you like and try them out."
   ]
  },
  {
   "cell_type": "markdown",
   "metadata": {},
   "source": [
    "## Julia\n",
    "\n",
    "Atom and VS Code both have extensions for Julia:\n",
    "- Atom's extension for Julia, **Uber-Juno** http://docs.junolab.org/stable/man/installation/index.html is developed by the folks that created Julia\n",
    "- If you like VS Code, there is a VSCode extension for Julia also"
   ]
  },
  {
   "cell_type": "markdown",
   "metadata": {},
   "source": [
    "## Python\n",
    "\n",
    "Atom and VS Code both have extensions for Python, if you work in multiple languages, they are good choices.\n",
    "\n",
    "There are two other IDE specific to Python that you can consider:\n",
    "- **Pycharm** https://www.jetbrains.com/pycharm/ is purpose-built for Python. JetBrains also makes IDE for other languages.\n",
    "- **Spyder** https://www.spyder-ide.org/ is also popular, it looks like R Studio"
   ]
  },
  {
   "cell_type": "markdown",
   "metadata": {},
   "source": [
    "## R\n",
    "\n",
    "Atom and VS Code both have extensions for R.\n",
    "However, the overwhelming preference of R IDE is **R Studio** https://rstudio.com/"
   ]
  },
  {
   "cell_type": "markdown",
   "metadata": {},
   "source": [
    "## Jupyter\n",
    "\n",
    "While the REPL and IDE lets you work efficiently with code, they don't help you with documenting and sharing your work with others.\n",
    "You need to switch to other software to type in text, copy/paste your program fragments and arrange output/plots, this is quite inconvenient and laborious.\n",
    "Where there are major pain points, there will be open source projects to make life (approximately) better.\n",
    "Jupyter was created to let you create computational **notebooks** that combine text, code and output together seamlessly for easy sharing of ideas with others, no more tedious copy/paste.\n",
    "\n",
    "The word **Jupyter** is coined from the contraction of Julia, Python, and R. \n",
    "Jupyter is a front-end that can work with many language backends via language **kernels**, a protocol for sending code and receiving output/plots.\n",
    "**JupyterLab** is a major re-release of Jupyter with many new and improved features.\n",
    "Each notebook uses one kernel, you cannot mix kernels in the same notebook.\n",
    "R Studio has a RMarkdown package that is similar to Jupyter in that it allows the intermixing of text, code and output.\n",
    "A RMarkdown file can run multiple kernels within the same document (but how often would you do this in practice?)"
   ]
  },
  {
   "cell_type": "markdown",
   "metadata": {},
   "source": [
    "## Jupyter Installation\n",
    "\n",
    "Complete documentation is at https://jupyterlab.readthedocs.io/en/stable/.\n",
    "\n",
    "Here are simplified instructions:\n",
    "\n",
    "1. Jupyter requires Python, install Python first (as of now, use Python 3.7.x, not 3.8)\n",
    "\n",
    "2. Install JupyterLab via `pip install jupyterlab` on the command line. This will install JupyterLab along with a Python kernel.\n",
    "\n",
    "3. Run JupyterLab in default browser with `jupyter-lab`\n",
    "    - Chrome or Firefox are fine, Internet Explorer doesn't work\n",
    "    - The Launcher tab shows icons for all available kernels, Python should be there.\n",
    "\n",
    "\n",
    "4. Create icon shortcut on your desktop or taskbar or start menu, choose the directory to start in, all notebooks will be created under this location.\n",
    "\n",
    "Other useful pip commends:\n",
    "- `pip list` lists installed packages\n",
    "- `pip install pkg==` lists all available versions of that pkg\n",
    "- `pip install pkg==a.b.c` installs version a.b.c of pkg\n",
    "- `pip install --upgrade pkg1 pkg2 ...` upgrades listed packages to most current version\n",
    "- `pip uninstall pkg1 pkg2 ...` uninstalls the listed packages\n",
    "\n",
    "Note: Jupyter is also included with Anaconda which some people prefer."
   ]
  },
  {
   "cell_type": "markdown",
   "metadata": {},
   "source": [
    "## Julia Kernel\n",
    "\n",
    "\n",
    "1. Create `~/.julia/config/startup.jl`, this is the Julia start-up file. Use some editor to put the following in it (Julia is case sensitive):\n",
    "\n",
    "```\n",
    "ENV[\"JUPYTER\"] = \"jupyter\"\n",
    "```\n",
    "\n",
    "Start up a Julia session, run the following Julia statements:\n",
    "\n",
    "```\n",
    "ENV[\"JUPYTER\"] = \"jupyter\"       # or complete path of jupyter.exe if not on PATH\n",
    "using Pkg\n",
    "Pkg.add(\"IJulia\")\n",
    "```\n",
    "\n",
    "Use the following Julia statement to update all Julia packages:\n",
    "\n",
    "```\n",
    "Pkg.update()\n",
    "```\n",
    "\n",
    "Detailed instructions are at https://github.com/JuliaLang/IJulia.jl.\n",
    "Note this instruction here avoids installation **Conda** (Anaconda, miniconda), they are very big installs.\n",
    "You can have kernels for different versions of Julia."
   ]
  },
  {
   "cell_type": "markdown",
   "metadata": {},
   "source": [
    "## R Kernel\n",
    "\n",
    "Start up a R session, issue the following R statements within each installed R version:\n",
    "\n",
    "```\n",
    "install.packages('IRkernel')\n",
    "IRkernel::installspec(name = 'ir361', displayname = 'R 3.6.1')      # Change strings to your liking\n",
    "```\n",
    "\n",
    "Instructions can be found at https://github.com/IRkernel/IRkernel\n",
    "\n",
    "You can have multiple R kernels for different versions of R."
   ]
  },
  {
   "cell_type": "markdown",
   "metadata": {},
   "source": [
    "## Kernel List\n",
    "\n",
    "Use `jupyter kernelspec list` at command prompt or terminal to list available kernels.\n",
    "\n",
    "On Windows, the kernels are placed at **C:\\Users\\\\<userid\\>\\AppData\\Roaming\\jupyter\\kernels**, each directory is a kernel.\n",
    "\n",
    "Inside each directory is **kernel.json** which is the kernel definition."
   ]
  },
  {
   "cell_type": "markdown",
   "metadata": {},
   "source": [
    "## Sas-kernel\n",
    "\n",
    "**sas-kernel** lets you create a *SAS notebook*, you write native SAS code in this notebook.\n",
    "This method uses JupyterLab as an interface to SAS just like SAS Display Manager, SAS Studio or SAS Enterprise Guide.\n",
    "\n",
    "You install sas-kernel with `pip install sas-kernel`. It will install **saspy** as it is a required dependency.\n",
    "Be sure to configure saspy properly, if saspy doesn't work, sas-kernel won't work.\n",
    "\n",
    "SAS has two streams of output: Log and Results.\n",
    "If your code produces only Log messages but no Results, sas-kernel shows Log messages as cell output.\n",
    "If your code produces Results without Log ERROR or WARNING messages, sas-kernel will show you Results as cell output.\n",
    "If you want to see the sas log, you need to use magics:\n",
    "\n",
    "- to see all available magics, use `%lsmagic`\n",
    "- to see log of last execution, use `%showLog` (case sensitive)\n",
    "- to see log of entire session, use `%showFullLog` (case sensitive)\n",
    "\n",
    "Line magics start with single %, cell magic starts with double %%."
   ]
  },
  {
   "cell_type": "markdown",
   "metadata": {},
   "source": [
    "## Saspy Kernel\n",
    "\n",
    "**saspy** is a kernel that lets a *Python notebook* access SAS as a computational engine.\n",
    "For example, to establish connection between Python and SAS:\n",
    "\n",
    "```\n",
    "import saspy                 # import saspy package into Python session\n",
    "sas = saspy.SASsession()     # establish a SAS backend session called \"sas\"\n",
    "```\n",
    "\n",
    "After establishing a connection, you write Python code to submit text strings to SAS via the **submit()** function:\n",
    "\n",
    "```\n",
    "rc = sas.submit(\"\"\"\n",
    "proc print data=sashelp.fish(obs=10) round;\n",
    "run;\n",
    "\"\"\")\n",
    "```\n",
    "\n",
    "You can also use cell magics if you are using Jupyter:\n",
    "\n",
    "```\n",
    "%%SAS\n",
    "proc print data=sashelp.cars(obs=10);\n",
    "run;\n",
    "```\n",
    "\n",
    "This method is meant for people who wants to write Python and use SAS as a package.\n",
    "See https://sassoftware.github.io/saspy/getting-started.html#\n",
    "\n",
    "An architectural difference between saspy and other language kernels is that whereas other kernels run their sessions locally, saspy can access *remote SAS server sessions*.\n",
    "This means you can run Jupyter on your local machine and access SAS either locally or remotely on UNIX or Mainframes or a SAS Grid like SAS EG or SAS Studio.\n",
    "\n",
    "You install saspy with `pip install saspy`.\n",
    "It needs to be configured properly before it will run, the following is for a **winlocal** setup:\n",
    "\n",
    "1. Make sure SAS is on PATH so that it executes from the command line\n",
    "\n",
    "2. For winlocal, make sure sspiauth.dll is accessible (https://sassoftware.github.io/saspy/install.html#local)\n",
    "    \n",
    "    - e.g., add C:\\Program Files\\SASHome\\SASFoundation\\9.4\\core\\sasext to PATH\n",
    "\n",
    "\n",
    "3. Navigate to pydir/Lib/site-packages/saspy\n",
    "\n",
    "    - copy sascfg.py to sascfg_personal.py\n",
    "\n",
    "    - edit sascfg_personal.py  (see https://sassoftware.github.io/saspy/install.html#sascfg-personal-py)\n",
    "    \n",
    "        - use winlocal\n",
    "        - 4 jar files are needed from the SAS installation (https://sassoftware.github.io/saspy/install.html#local)\n",
    "        - 1 jar file is needed from saspy located at pydir/Lib/site-packages/saspy/java/saspyiom.jar\n",
    "        - Because the locations of SAS and Python are hard-coded in this configuration file, anytime you update SAS or Python you must edit this file to update the directory path"
   ]
  }
 ],
 "metadata": {
  "kernelspec": {
   "display_name": "Python 3",
   "language": "python",
   "name": "python3"
  },
  "language_info": {
   "codemirror_mode": {
    "name": "ipython",
    "version": 3
   },
   "file_extension": ".py",
   "mimetype": "text/x-python",
   "name": "python",
   "nbconvert_exporter": "python",
   "pygments_lexer": "ipython3",
   "version": "3.7.4"
  }
 },
 "nbformat": 4,
 "nbformat_minor": 4
}
