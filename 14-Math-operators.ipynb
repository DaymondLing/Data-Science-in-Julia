{
 "cells": [
  {
   "cell_type": "markdown",
   "metadata": {},
   "source": [
    "# Mathematical Operators\n",
    "\n",
    "Julia has a complete set of [arithmetic and bitwise operators](https://docs.julialang.org/en/v1/manual/mathematical-operations/) for all of its numeric primitive types.\n",
    "If the operands are of mixed type, the more restrictive operand is promoted, this makes math just work naturally and automatically."
   ]
  },
  {
   "cell_type": "markdown",
   "metadata": {},
   "source": [
    "## Arithmetic operators\n",
    "\n",
    "Expression | Name | Description\n",
    "---------- | --------- | ----------------------------\n",
    "+x | unary plus | the identity operation\n",
    "-x | unary minus | maps values to their additive inverses\n",
    "x + y | binary plus | performs addition\n",
    "x - y | binary minus | performs subtraction\n",
    "x * y | times | performs multiplication\n",
    "x ^ y | power | raises x to the yth power\n",
    "x / y | divide | performs division\n",
    "x % y | remainder | equivalent to rem(x,y)\n",
    "x ÷ y | integer divide | x / y, truncated to an integer\n",
    "x \\ y | inverse divide | equivalent to y / x\n",
    "! | negation | flip true and false values"
   ]
  },
  {
   "cell_type": "markdown",
   "metadata": {},
   "source": [
    "## Bitwise operators\n",
    "\n",
    "They are applied on integer values.\n",
    "\n",
    "Expression | Name \n",
    "---------- | --------- \n",
    "~x | bitwise not\n",
    "x & y | bitwise and\n",
    "x &#124; y | bitwise or\n",
    "x ⊻ y | bitwise xor (exclusive or)\n",
    "x >>> y | logical shift right\n",
    "x >> y | arithmetic shift right\n",
    "x << y | logical/arithmetic shift left"
   ]
  },
  {
   "cell_type": "markdown",
   "metadata": {},
   "source": [
    "## Updating operator\n",
    "\n",
    "Every binary arithmetic and bitwise operator has an updating version,"
   ]
  },
  {
   "cell_type": "code",
   "execution_count": 1,
   "metadata": {},
   "outputs": [
    {
     "data": {
      "text/plain": [
       "6"
      ]
     },
     "execution_count": 1,
     "metadata": {},
     "output_type": "execute_result"
    }
   ],
   "source": [
    "x = 5\n",
    "x += 1      # equivalent to x = x + 1"
   ]
  },
  {
   "cell_type": "markdown",
   "metadata": {},
   "source": [
    "The set of updating operators are:\n",
    "\n",
    "```\n",
    "+=  -=  *=  /=  \\=  ÷=  %=  ^=  &=  |=  ⊻=  >>>=  >>=  <<=\n",
    "```\n",
    "\n",
    "Note if the result is a different type, the operand's type will change."
   ]
  },
  {
   "cell_type": "markdown",
   "metadata": {},
   "source": [
    "## Numeric comparison\n",
    "\n",
    "Standard **comparison** operators are defined for all primitive numeric types:\n",
    "\n",
    "Operator | Name\n",
    "-------- | ---------------\n",
    "== | equality\n",
    "!=, ≠ | inequality\n",
    "< | less than\n",
    "<=, ≤ | less than or equal to\n",
    "> | greater than\n",
    ">=, ≥ | greater than or equal to\n",
    "\n",
    "There is an **identity** operator that checks whether two variables are bound to the same value:\n",
    "\n",
    "Operator | Name\n",
    "-------- | ---------------\n",
    "=== | object identify"
   ]
  },
  {
   "cell_type": "markdown",
   "metadata": {},
   "source": [
    "## Elementary functions\n",
    "\n",
    "For the current list of [elementary functions see here](https://docs.julialang.org/en/v1/manual/mathematical-operations/#Rounding-functions-1)"
   ]
  },
  {
   "cell_type": "markdown",
   "metadata": {},
   "source": [
    "## Inf, NaN, missing, nothing\n",
    "\n",
    "If all variables exist and values and operators play nicely together, your program will execute without any issues.\n",
    "Alas, in reality, variables may not exist or don't have values, and the values may not play nice with your formula - anything that can happen will happen at some point.\n",
    "All scientific computing languages have ways to help you understand these situations and recover.\n",
    "Julia's mechanism is as follows:\n",
    "\n",
    "- numeric types can have special values of **-Inf**, **Inf**, **NaN** created by ill-conditioned arithmetic\n",
    "    - -Inf is negative infinity; -Inf is equal to itself and less than everything else (except NaN)\n",
    "    - Inf is positive infinity; Inf is equal to itself and greater than everything else (except NaN)\n",
    "    - NaN is \"Not a Number\"; NaN is not equal to, not less than, and not greater than anything, including itself\n",
    "    - if the output of an expression is one of these, then either some input is already one of these, or the expression is ill-conditioned, your computation doesn't make sense. If you see these values in your results, there is a logic error somewhere in your program.\n",
    "    - arithmetic with Inf, -Inf and NaN follows the standard propagation rules and are easy to reason about. To test whether a value is one of these, you can use these functions:"
   ]
  },
  {
   "cell_type": "markdown",
   "metadata": {},
   "source": [
    "Function | Tests if\n",
    "---------|-------------------\n",
    "isequal(x, y) | x and y are identical, NaN is equal to itself\n",
    "isfinite(x) |x is a finite number, not Inf, -Inf\n",
    "isinf(x) | x is infinite\n",
    "isnan(x) | x is not a number"
   ]
  },
  {
   "cell_type": "markdown",
   "metadata": {},
   "source": [
    "- **Missing** is a special *type* with only one value: **missing**\n",
    "    - missing is used to signal, while the variable may have values, we don't know what it is at this moment\n",
    "    - missing propagates; if any of the input is missing, the result is missing, arithmetic with non-missing inputs do not generate missing. If the output of an expression is missing, some of the input is missing, it's an input problem.\n",
    "    - missing propagation doesn't cause the program to stop\n",
    "    - to test if something is missing, use **ismissing()**\n",
    "\n",
    "\n",
    "- **Nothing** is a special *type* with only one value: **nothing**.\n",
    "    - nothing is similar to C's void or NULL pointer\n",
    "    - computation with nothing always cause Julia to raise an error and stop\n",
    "    - to test if a variable is nothing, use **isnothing()**\n",
    "\n",
    "\n",
    "When evaluating an expression:\n",
    "\n",
    "1. Do all the names exist? If any name doesn't exist, Julia raises **UndefVarError** and stops\n",
    "\n",
    "2. Are all the names bound to something? If any of them is nothing, Julia raises error and stops (except for printing)\n",
    "\n",
    "3. Are any of the variables missing? If yes, result is missing.\n",
    "\n",
    "4. Evaluate expression which may result in -Inf, Inf, NaN\n",
    "\n",
    "The distinction between these behaviour is designed to help you understand what is happening and deal with the issues."
   ]
  }
 ],
 "metadata": {
  "kernelspec": {
   "display_name": "Julia 1.4.0",
   "language": "julia",
   "name": "julia-1.4"
  },
  "language_info": {
   "file_extension": ".jl",
   "mimetype": "application/julia",
   "name": "julia",
   "version": "1.4.0"
  }
 },
 "nbformat": 4,
 "nbformat_minor": 4
}
