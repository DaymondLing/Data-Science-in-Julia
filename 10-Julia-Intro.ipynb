{
 "cells": [
  {
   "cell_type": "markdown",
   "metadata": {},
   "source": [
    "# Two Language Problem\n",
    "\n",
    "In the beginning of computing there was FORTRAN for numeric computing followed later by C for systems programming.\n",
    "These statically compiled languages had optimizing compilers that produced highly performant code, but scientists found them difficult to use for prototyping because these languages were unforgiving and sparse:\n",
    "\n",
    "- every variable must be declared before use with full type information\n",
    "- the only built-in data collection is homogeneous dense arrays, the lack of sets, tuples, maps made it difficult to express other ideas\n",
    "- lack of iterators meant tedious debugging of indexing code, the bane of array coding\n",
    "- the edit-compile-link-execute-debug cycle interrupts mental focus and concentration on the problem\n",
    "\n",
    "When dynamic languages such as MATLAB, R and Python came along, scientists quickly gravitated towards them because they are ideally suited for quick R&D prototyping:\n",
    "\n",
    "- just assign values to variables, there's no need to pre-declare anything\n",
    "- immediate statement execution allows fast feedback, eliminates mental pauses of the edit-compile-link-execute-debug approach\n",
    "- out-of-box data collections such as sets, dictionaries, queues allowed scientists to use the right data structure for the right problem\n",
    "- built-in iterators greatly simplified coding and eliminates indexing error\n",
    "\n",
    "But when scientists finish their R&D and have a working prototype, they find the execution speed of dynamic languages is often an order of magnitude slower than compiled FORTRAN/C, their proof of concept code is often not suitable for production use, thus scientists frequently find themselves re-writing their algorithms again in FORTRAN/C.\n",
    "\n",
    "This is the **two-language problem** in scientific computing, you prototype in dynamic languages and re-write again in compiled languages for production. The balance between fast development and high performance was an either/or, you can have one or the other but not both."
   ]
  },
  {
   "cell_type": "markdown",
   "metadata": {},
   "source": [
    "# Julia\n",
    "\n",
    "Julia was started in MIT as an open source project.\n",
    "It aims to solve the two language problem for scientists by enabling easy prototyping and high performance processing of enormous amounts of data.\n",
    "Julia first appeared in 2012 with these main design features:\n",
    "\n",
    "**Ease of use**:\n",
    "\n",
    "- you can just type expressions and evaluate them immediately, types are optional\n",
    "- it comes out of the box with a full suite of data types and collections so that you can use the right data structure for the right problem without rolling your own\n",
    "- comes with a rich set of built-in iterators and operators to manipulate data structures, you don't need to write/debug your own operators\n",
    "- can call C and Fortran libraries natively, call Python packages via PyCall, call R packages via RCall\n",
    "\n",
    "**High performance**:\n",
    "\n",
    "- type system and multiple dispatch allow JIT LLVM compilation into highly optimized machine code, Julia runs at comparable FORTRAN/C speed\n",
    "- Julia has vectorized operators that are fusing, the entire vector expression is evaluated using a single loop. Python/numpy cannot does this and is much slower.\n",
    "- you can write loops! Julia loops are fast, unlike other dynamic languages that actively discourage loops because loops are slow\n",
    "- natively supports parallelism and distributed computing\n",
    "- has full metaprogramming capabilities"
   ]
  },
  {
   "cell_type": "markdown",
   "metadata": {},
   "source": [
    "# Zen of Julia\n",
    "\n",
    "The Zen of Julia is nicely described by [JuliaMentalModel](https://ucidatascienceinitiative.github.io/IntroToJulia/Html/JuliaMentalModel), written by Chris Rackauckas as part of a [workshop](https://ucidatascienceinitiative.github.io/IntroToJulia/) for the UC Irvine Data Science Initiative.\n",
    "\n",
    "Here's an excerpt:\n",
    "\n",
    "> **The Julia Community: Who is a user?**  \n",
    ">\n",
    ">Julia, being high performance and equipped with heavy \"CS\" features, all while a scripting language, has attracted a diverse audience.\n",
    ">\n",
    ">- A large group of Julia users are ex-MATLAB users interested in using Julia for faster numerical linear algebra applications.\n",
    ">- Another significant group are the machine learning and statistics users from R/Python looking to solve the \"two-language\" problem.\n",
    ">- Another group (a lot of Base contributors) are C/Fortran developers who are looking to increase productivity without sacrificing speed.\n",
    ">- Another group are \"general-purpose\" users: using Julia to develop faster web frameworks, compilers, and anyting else you can think of!\n",
    ">- Another group is from functional programming languages (Haskell) and Lisps (Clojure, Femtolisp) interested in Julia's metaprogramming and parallelism.\n",
    ">- Julia combines the interests, features, and libraries of all of these groups. To which group(s) do you belong?\n",
    ">\n",
    ">We want a language that’s open source, with a liberal license. We want the speed of C with the dynamism of Ruby. We want a language that’s homoiconic, with true macros like Lisp, but with obvious, familiar mathematical notation like Matlab. We want something as usable for general programming as Python, as easy for statistics as R, as natural for string processing as Perl, as powerful for linear algebra as Matlab, as good at gluing programs together as the shell. Something that is dirt simple to learn, yet keeps the most serious hackers happy. We want it interactive and we want it compiled.\n",
    ">\n",
    ">(Did we mention it should be as fast as C?)\n",
    ">\n",
    ">While we’re being demanding, we want something that provides the distributed power of Hadoop — without the kilobytes of boilerplate Java and XML; without being forced to sift through gigabytes of log files on hundreds of machines to find our bugs. We want the power without the layers of impenetrable complexity. We want to write simple scalar loops that compile down to tight machine code using just the registers on a single CPU. We want to write A*B and launch a thousand computations on a thousand machines, calculating a vast matrix product together."
   ]
  }
 ],
 "metadata": {
  "kernelspec": {
   "display_name": "Julia 1.4.0",
   "language": "julia",
   "name": "julia-1.4"
  },
  "language_info": {
   "file_extension": ".jl",
   "mimetype": "application/julia",
   "name": "julia",
   "version": "1.4.0"
  }
 },
 "nbformat": 4,
 "nbformat_minor": 4
}
