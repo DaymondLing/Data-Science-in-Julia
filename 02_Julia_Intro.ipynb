{
 "cells": [
  {
   "cell_type": "markdown",
   "metadata": {},
   "source": [
    "# Two Language Problem\n",
    "\n",
    "In the beginning of computing there was FORTRAN for numeric computing followed later by C for systems programming, these compilers offered high execution performance, but scientists found them difficult to use for prototyping because these languages were unforgiving and sparse:\n",
    "- every variable must be declared before use with full type information\n",
    "- the only built-in data collections is homogeneous dense arrays, the lack of sets, tuples, maps made it more awkward to express ideas\n",
    "- lack of iterators meant tedious debugging often caused by bad indexing code\n",
    "- the edit-compile-execute-debug cycle interrupts mental focus and concentration on the problem\n",
    "\n",
    "When dynamic languages such as MATLAB, R and Python came along, scientists quickly gravitated towards them because they are ideally suited for quick R&D prototyping:\n",
    "- no need to declare anything, just assign values to variables\n",
    "- out-of-box data collections such as sets, dictionaries, queues allowed scientists to use the right data structure for the right problem\n",
    "- built-in iterators (mostly) eliminates indexing error\n",
    "- immediate expression evaluation and debugging without the mental pause and interruption of edit-compile-execute-debug, it is easy to build up complex algorithms one statement at a time\n",
    "\n",
    "But when scientists finish their R&D and have a working prototype in a dynamic language, they find the execution speed is often an order of magnitude slower than compiled FORTRAN/C, the proof of concept code are unacceptable for production use, thus scientists frequently find themselves re-writing their algorithm again in FORTRAN/C.\n",
    "\n",
    "This is the **two-language problem** in scientific computing, the balance between expressiveness and run-time speed was an either/or, you can have one or the other but not both, you prototype in dynamic languages and move to production in compiled languages."
   ]
  },
  {
   "cell_type": "markdown",
   "metadata": {},
   "source": [
    "# Julia\n",
    "\n",
    "Julia is an open source project started in MIT, it first appeared in 2012.\n",
    "It aims to solve the two-language problem by enabling fast prototyping and very fast execution on enormous amounts of data.\n",
    "Julia's main design features are:\n",
    "\n",
    "- types are optional, you can just type expressions and evaluate them immediately\n",
    "- has a full suite of out-of-the-box native data types and collections so you can use the right data structure for the problem\n",
    "- has built-in iterators and collection operators so you can manipulate them without needing to write/debug your own\n",
    "- has an integrated type system and multiple dispatch that allows JIT LLVM compilation into highly optimized machine code, Julia runs at comparable FORTRAN/C speed\n",
    "- has full metaprogramming capabilities\n",
    "- can call C and Fortran libraries natively and any Python module via PyCall\n",
    "\n",
    "The UC Irvine Data Science Initiative says this about Julia:  https://ucidatascienceinitiative.github.io/IntroToJulia/Html/JuliaMentalModel  \n",
    "Here's an excerpt:\n",
    "\n",
    "> **The Julia Community: Who is a user?**  \n",
    ">Julia, being high performance and equipped with heavy \"CS\" features, all while a scripting language, has attracted a diverse audience.\n",
    ">\n",
    ">- A large group of Julia users are ex-MATLAB users interested in using Julia for faster numerical linear algebra applications.\n",
    ">- Another significant group are the machine learning and statistics users from R/Python looking to solve the \"two-language\" problem.\n",
    ">- Another group (a lot of Base contributors) are C/Fortran developers who are looking to increase productivity without sacrificing speed.\n",
    ">- Another group are \"general-purpose\" users: using Julia to develop faster web frameworks, compilers, and anyting else you can think of!\n",
    ">- Another group is from functional programming languages (Haskell) and Lisps (Clojure, Femtolisp) interested in Julia's metaprogramming and parallelism.\n",
    ">- Julia combines the interests, features, and libraries of all of these groups. To which group(s) do you belong?\n",
    ">\n",
    ">We want a language that’s open source, with a liberal license. We want the speed of C with the dynamism of Ruby. We want a language that’s homoiconic, with true macros like Lisp, but with obvious, familiar mathematical notation like Matlab. We want something as usable for general programming as Python, as easy for statistics as R, as natural for string processing as Perl, as powerful for linear algebra as Matlab, as good at gluing programs together as the shell. Something that is dirt simple to learn, yet keeps the most serious hackers happy. We want it interactive and we want it compiled.\n",
    ">\n",
    ">(Did we mention it should be as fast as C?)\n",
    ">\n",
    ">While we’re being demanding, we want something that provides the distributed power of Hadoop — without the kilobytes of boilerplate Java and XML; without being forced to sift through gigabytes of log files on hundreds of machines to find our bugs. We want the power without the layers of impenetrable complexity. We want to write simple scalar loops that compile down to tight machine code using just the registers on a single CPU. We want to write A*B and launch a thousand computations on a thousand machines, calculating a vast matrix product together."
   ]
  }
 ],
 "metadata": {
  "kernelspec": {
   "display_name": "Julia 1.3.1",
   "language": "julia",
   "name": "julia-1.3"
  },
  "language_info": {
   "file_extension": ".jl",
   "mimetype": "application/julia",
   "name": "julia",
   "version": "1.3.1"
  }
 },
 "nbformat": 4,
 "nbformat_minor": 4
}
