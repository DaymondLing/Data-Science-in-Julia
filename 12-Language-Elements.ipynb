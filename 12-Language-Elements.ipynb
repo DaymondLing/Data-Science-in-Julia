{
 "cells": [
  {
   "cell_type": "markdown",
   "metadata": {},
   "source": [
    "# Language Elements\n",
    "\n",
    "Every computer language has its syntax that you must follow.\n",
    "Julia's syntax is crafted and harmonized from what's considered best-in-class for scientific work:\n",
    "\n",
    "- Linear Algebra looks like MATLAB\n",
    "- General computer science parts look like Python\n",
    "- Loops look like loops and they behave like FORTRAN/C loops - fast!\n",
    "- Statistics looks like R\n",
    "- Metaprogramming looks like Lisp\n",
    "- Functional programming looks like Haskell\n",
    "\n",
    "Julia's syntax is intuitive so that programmming in it feels fluid and natural, the syntax doesn't get in your way, your train of thought isn't interrupted to fuss over house keeping details.\n",
    "If you have programmed before, some of the terminology will be familiar, while other parts will be from a domain you may have never heard of, and may enjoy learning and become a better programmer in the process."
   ]
  },
  {
   "cell_type": "markdown",
   "metadata": {},
   "source": [
    "## Statement\n",
    "\n",
    "Julia's idea of a statement is fairly relaxed:\n",
    "\n",
    "- A Julia statement typically is on its own line.\n",
    "- Julia does not require statement terminators such as ';' that C and SAS uses\n",
    "- For the rare occasions where the statement is long, it can span multiple lines. Write the lines as incomplete statements so Julia's parser will continue onto the next line.\n",
    "This can be accomplished via, e.g., unbalanced parenthesis, or the second operand of a binary operator missing on the current line.\n",
    "- You can use `;` to separate multiple statements on the same line. Semicolon is a statement *separator*, not a terminator\n",
    "- You should indent Julia code so that it's easy to read, but indentation does not dictate structure like Python"
   ]
  },
  {
   "cell_type": "markdown",
   "metadata": {},
   "source": [
    "## Comment\n",
    "\n",
    "There are two types of comment, line comment and block comment:\n",
    "\n",
    "**\\#** starts a comment to the end of the line:\n",
    "\n",
    "```\n",
    "# add two numbers\n",
    "\n",
    "a = 1 + 2       # the symbol = is the assignment operator\n",
    "```\n",
    "\n",
    "**#=** ... **=#** is paired nestable comment:\n",
    "\n",
    "```\n",
    "#=\n",
    "    print(...)    prints ... without terminating newline\n",
    "                  subsequent printing continues on the same line\n",
    "\n",
    "    println(...)  prints ... and a newline\n",
    "                  #= every println() is a line on its own =#\n",
    "=#\n",
    "```"
   ]
  },
  {
   "cell_type": "markdown",
   "metadata": {},
   "source": [
    "## Name\n",
    "\n",
    "In static languages such as FORTRAN and C, name and value association is permanent, e.g., if you declare MAT to be a 3x3 matrix of 64-bit floating point numbers, MAT will be that matrix for the entirety of the program, it won't be anything else. MAT and the 3x3 matrix are synonymous, this makes static programs easy to reason about.\n",
    "\n",
    "Dynamic languages such as Julia, Python and R are different: the association between name and value is not permanent, it can change dynamically as the program executes.\n",
    "For instance, you can assign a number to the name Alice at the beginning of a program, and assign a string to Alice later in the program.\n",
    "The name Alice, just by itself, doesn't tell you what value it is bound to (or points to, refers to, is a reference to).\n",
    "This is really important, in Julia,\n",
    "\n",
    "> **names have no types, values have types - variables are simply names bound to values**\n",
    "\n",
    "Because names don't carry type information, dynamic programs are much harder to reason about (because you don't know what a variable is without checking context).\n",
    "If you don't know what a variable is, you can't generate efficient code for it, this is one of the reasons why dynamic languages (Python, R) execute far slower than static languages (FORTRAN, C).\n",
    "\n",
    "As all modern dynamic languages do, Julia keeps track of names in **namespaces**.\n",
    "A namespace is a table that tracks names and the value each name is currently bound to.\n",
    "Namespaces serve to separate and isolate names used in different modules or packages from each other.\n",
    "\n",
    "Julia's rules for names are:\n",
    "\n",
    "1. Case sensitive\n",
    "1. Begin with A-Z, a-z, \\_, or allowable Unicode codepoints\n",
    "1. Can use !, 0-9 afterwards\n",
    "1. Unicode names (UTF-8) are allowed, math symbols are allowed.\n",
    "1. Julia built-in statement names can't be used as variable names\n",
    "\n",
    "Unicode math symbols can be entered by their backslashed LaTeX symbol name followed by tab, e.g., \\delta\\[tab] = δ.\n",
    "The [Julia unicode documentation](https://docs.julialang.org/en/v1/manual/unicode-input/) has a list of symbols and their tab completion sequences.\n",
    "\n",
    "What is the maximum length of a Julia name? More than you're able to type. How about a name that's 1K long? 1 million long?"
   ]
  },
  {
   "cell_type": "code",
   "execution_count": 1,
   "metadata": {},
   "outputs": [],
   "source": [
    "using Random\n",
    "\n",
    "s = Symbol(randstring(1_000));           # no error, still valid"
   ]
  },
  {
   "cell_type": "code",
   "execution_count": 2,
   "metadata": {},
   "outputs": [],
   "source": [
    "s = Symbol(randstring(1_000_000));       # 1 million characters is still valid"
   ]
  },
  {
   "cell_type": "markdown",
   "metadata": {},
   "source": [
    "This enables you to write programs that generate internal names without worrying about name length."
   ]
  },
  {
   "cell_type": "markdown",
   "metadata": {},
   "source": [
    "## Stylistic convention\n",
    "\n",
    "Juli'a convention for names are:\n",
    "- Variables in lower case, use _ as word separator if needed\n",
    "- Functions and macros in lower case, no underscore, functions that modify arguments end with !\n",
    "- Types and Modules in CamelCase\n",
    "\n",
    "More [variable name discussion](https://docs.julialang.org/en/v1/manual/variables/) can be found [here](https://docs.julialang.org/en/v1/manual/variables/).\n",
    "A broader [Julia Style Guide](https://docs.julialang.org/en/v1/manual/style-guide/#Style-Guide-1) covers topics around how to use Julia effectively."
   ]
  },
  {
   "cell_type": "markdown",
   "metadata": {},
   "source": [
    "## Printing\n",
    "\n",
    "You can print multiple variables by listing them as arguments to the print function, separated by commas.\n",
    "A more intuitive way is to use a single character string and prefix variables and parenthesized expressions with a $ sign:"
   ]
  },
  {
   "cell_type": "code",
   "execution_count": 3,
   "metadata": {},
   "outputs": [
    {
     "name": "stdout",
     "output_type": "stream",
     "text": [
      "Alice, 1 + 2 is 3\n"
     ]
    }
   ],
   "source": [
    "a = 1\n",
    "b = 2\n",
    "c = \"Alice\"\n",
    "println(\"$c, $a + $b is $(a+b)\")"
   ]
  },
  {
   "cell_type": "markdown",
   "metadata": {},
   "source": [
    "print() prints its arguments as is, println() prints an additional trailing newline."
   ]
  }
 ],
 "metadata": {
  "kernelspec": {
   "display_name": "Julia 1.4.0",
   "language": "julia",
   "name": "julia-1.4"
  },
  "language_info": {
   "file_extension": ".jl",
   "mimetype": "application/julia",
   "name": "julia",
   "version": "1.4.0"
  }
 },
 "nbformat": 4,
 "nbformat_minor": 4
}
