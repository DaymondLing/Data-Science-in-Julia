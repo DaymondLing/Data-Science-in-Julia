{
 "cells": [
  {
   "cell_type": "markdown",
   "metadata": {},
   "source": [
    "# Numerics\n",
    "\n",
    "Numbers are just numbers, right? That's not quite the case when it comes to numeric computation on computers.\n",
    "In science, we deal with exact integers, inexact numbers, very large numbers (distance in Astronomy) and very small numbers (size in Particle Physics).\n",
    "To cope with these disparate needs, computers have a number of ways of representing numbers to suite different needs, these representations have dedicated hardware resources for fast computations.\n",
    "\n",
    "Julia has a broad range of primitive numeric types and a full complement of arithmetic/bitwise operators and mathematical functions.\n",
    "Where possible, they map directly onto hardware resources thus allowing Julia to fully leverage modern computational capabilities.\n",
    "Julia also provides software support for *Arbitrary Precision Arithmetic* but at the cost of slower performance."
   ]
  },
  {
   "cell_type": "markdown",
   "metadata": {},
   "source": [
    "## Number types\n",
    "\n",
    "Julia has a type hierarchy where every type belongs.\n",
    "Numeric types all fall under the **Number** type.\n",
    "We can find the children of a type with the **subtypes()** function, and the parent of a type with the **supertype()** function.\n",
    "Let's have a look at Number."
   ]
  },
  {
   "cell_type": "code",
   "execution_count": 1,
   "metadata": {},
   "outputs": [
    {
     "data": {
      "text/plain": [
       "2-element Array{Any,1}:\n",
       " Complex\n",
       " Real"
      ]
     },
     "execution_count": 1,
     "metadata": {},
     "output_type": "execute_result"
    }
   ],
   "source": [
    "subtypes(Number)"
   ]
  },
  {
   "cell_type": "markdown",
   "metadata": {},
   "source": [
    "Number consists of **Complex** and **Real**."
   ]
  },
  {
   "cell_type": "code",
   "execution_count": 2,
   "metadata": {},
   "outputs": [
    {
     "data": {
      "text/plain": [
       "4-element Array{Any,1}:\n",
       " AbstractFloat\n",
       " AbstractIrrational\n",
       " Integer\n",
       " Rational"
      ]
     },
     "execution_count": 2,
     "metadata": {},
     "output_type": "execute_result"
    }
   ],
   "source": [
    "subtypes(Real)"
   ]
  },
  {
   "cell_type": "markdown",
   "metadata": {},
   "source": [
    "Real consists of **Integer**, **Rational**, **AbstractIrrational** and **AbstractFloat**.\n",
    "\n",
    "The **supertype()** function tells us the parent of a type:"
   ]
  },
  {
   "cell_type": "code",
   "execution_count": 3,
   "metadata": {},
   "outputs": [
    {
     "data": {
      "text/plain": [
       "Real"
      ]
     },
     "execution_count": 3,
     "metadata": {},
     "output_type": "execute_result"
    }
   ],
   "source": [
    "supertype(Integer)"
   ]
  },
  {
   "cell_type": "markdown",
   "metadata": {},
   "source": [
    "Here's a fast way to see the entire tree underneath Number:"
   ]
  },
  {
   "cell_type": "code",
   "execution_count": 4,
   "metadata": {},
   "outputs": [
    {
     "name": "stdout",
     "output_type": "stream",
     "text": [
      "Number\n",
      "├─ Complex\n",
      "└─ Real\n",
      "   ├─ AbstractFloat\n",
      "   │  ├─ BigFloat\n",
      "   │  ├─ Float16\n",
      "   │  ├─ Float32\n",
      "   │  └─ Float64\n",
      "   ├─ AbstractIrrational\n",
      "   │  └─ Irrational\n",
      "   ├─ Integer\n",
      "   │  ├─ Bool\n",
      "   │  ├─ Signed\n",
      "   │  │  ├─ BigInt\n",
      "   │  │  ├─ Int128\n",
      "   │  │  ├─ Int16\n",
      "   │  │  ├─ Int32\n",
      "   │  │  ├─ Int64\n",
      "   │  │  └─ Int8\n",
      "   │  └─ Unsigned\n",
      "   │     ├─ UInt128\n",
      "   │     ├─ UInt16\n",
      "   │     ├─ UInt32\n",
      "   │     ├─ UInt64\n",
      "   │     └─ UInt8\n",
      "   └─ Rational\n"
     ]
    }
   ],
   "source": [
    "using AbstractTrees\n",
    "AbstractTrees.children(x::Type) = subtypes(x)\n",
    "print_tree(Number)"
   ]
  },
  {
   "cell_type": "markdown",
   "metadata": {},
   "source": [
    "As you can see, Julia has a rich assortment of numeric types to meet a wide variety of needs.\n",
    "Whereas many dynamic languages won't let you control numeric types, Julia gives you the ability to control should you need to.\n",
    "See [Integers and Floating-Point Numbers](https://docs.julialang.org/en/v1/manual/integers-and-floating-point-numbers/) for full documentation.\n",
    "\n",
    "Julia also defines two types **Int** and **UInt** which are aliases for the system's signed and unsigned native integer types respectively."
   ]
  },
  {
   "cell_type": "code",
   "execution_count": 5,
   "metadata": {},
   "outputs": [
    {
     "data": {
      "text/plain": [
       "(Int64, UInt64)"
      ]
     },
     "execution_count": 5,
     "metadata": {},
     "output_type": "execute_result"
    }
   ],
   "source": [
    "Int, UInt"
   ]
  },
  {
   "cell_type": "markdown",
   "metadata": {},
   "source": [
    "**BigInt** and **BigFloat** are arbitrary precision integer and floating point numbers."
   ]
  },
  {
   "cell_type": "markdown",
   "metadata": {},
   "source": [
    "## Limits\n",
    "\n",
    "Each numeric type has a limit on what it can and cannot represent.\n",
    "The range of valid values can be found via this code:"
   ]
  },
  {
   "cell_type": "code",
   "execution_count": 6,
   "metadata": {},
   "outputs": [
    {
     "name": "stdout",
     "output_type": "stream",
     "text": [
      "   Int8: [-128, 127]\n",
      "  Int16: [-32768, 32767]\n",
      "  Int32: [-2147483648, 2147483647]\n",
      "  Int64: [-9223372036854775808, 9223372036854775807]\n",
      " Int128: [-170141183460469231731687303715884105728, 170141183460469231731687303715884105727]\n",
      "  UInt8: [0, 255]\n",
      " UInt16: [0, 65535]\n",
      " UInt32: [0, 4294967295]\n",
      " UInt64: [0, 18446744073709551615]\n",
      "UInt128: [0, 340282366920938463463374607431768211455]\n"
     ]
    }
   ],
   "source": [
    "for T in [Int8, Int16, Int32, Int64, Int128, UInt8, UInt16, UInt32, UInt64, UInt128]\n",
    "    println(\"$(lpad(T,7)): [$(typemin(T)), $(typemax(T))]\")\n",
    "end"
   ]
  },
  {
   "cell_type": "markdown",
   "metadata": {},
   "source": [
    "Note that integer arithmetic in Julia wraps around on overflow."
   ]
  },
  {
   "cell_type": "code",
   "execution_count": 7,
   "metadata": {},
   "outputs": [
    {
     "data": {
      "text/plain": [
       "(9223372036854775807, -9223372036854775808)"
      ]
     },
     "execution_count": 7,
     "metadata": {},
     "output_type": "execute_result"
    }
   ],
   "source": [
    "x = typemax(Int64)\n",
    "(x, x+1)"
   ]
  },
  {
   "cell_type": "markdown",
   "metadata": {},
   "source": [
    "Floating point numbers have a *positive zero* and a *negative zero*, they are both just zero for computational purposes."
   ]
  },
  {
   "cell_type": "code",
   "execution_count": 13,
   "metadata": {},
   "outputs": [
    {
     "data": {
      "text/plain": [
       "(0.0, -0.0)"
      ]
     },
     "execution_count": 13,
     "metadata": {},
     "output_type": "execute_result"
    }
   ],
   "source": [
    "a = 0.0\n",
    "b = -0.0\n",
    "(a, b)"
   ]
  },
  {
   "cell_type": "code",
   "execution_count": 14,
   "metadata": {},
   "outputs": [
    {
     "data": {
      "text/plain": [
       "true"
      ]
     },
     "execution_count": 14,
     "metadata": {},
     "output_type": "execute_result"
    }
   ],
   "source": [
    "a == b"
   ]
  },
  {
   "cell_type": "markdown",
   "metadata": {},
   "source": [
    "## Numeric literals\n",
    "\n",
    "Numeric literals are the string you enter to represent a numeric value.\n",
    "Integer literals are just a sequence of digits without a decimal point.\n",
    "You can insert _ (anywhere) to improve readability."
   ]
  },
  {
   "cell_type": "code",
   "execution_count": 8,
   "metadata": {},
   "outputs": [
    {
     "data": {
      "text/plain": [
       "(1, 10, 1000, 1000000)"
      ]
     },
     "execution_count": 8,
     "metadata": {},
     "output_type": "execute_result"
    }
   ],
   "source": [
    "(1, 10, 1_000, 1_000_000)"
   ]
  },
  {
   "cell_type": "markdown",
   "metadata": {},
   "source": [
    "Unsigned integer literals are usually entered using the **0x** prefix followed by hexadecimal digits.\n",
    "\n",
    "Boolean literals uses the special names **true** and **false**.\n",
    "\n",
    "Floating point literals have **decimal point** or **exponent** in the ususal form:"
   ]
  },
  {
   "cell_type": "code",
   "execution_count": 9,
   "metadata": {},
   "outputs": [
    {
     "data": {
      "text/plain": [
       "(123.56, Float64)"
      ]
     },
     "execution_count": 9,
     "metadata": {},
     "output_type": "execute_result"
    }
   ],
   "source": [
    "x = 123.56             # have decimal point\n",
    "(x, typeof(x))"
   ]
  },
  {
   "cell_type": "code",
   "execution_count": 10,
   "metadata": {},
   "outputs": [
    {
     "data": {
      "text/plain": [
       "(123000.0, Float64)"
      ]
     },
     "execution_count": 10,
     "metadata": {},
     "output_type": "execute_result"
    }
   ],
   "source": [
    "x = 123e3              # have exponent Exx - Float64\n",
    "(x, typeof(x))"
   ]
  },
  {
   "cell_type": "code",
   "execution_count": 11,
   "metadata": {},
   "outputs": [
    {
     "data": {
      "text/plain": [
       "(123000.0f0, Float32)"
      ]
     },
     "execution_count": 11,
     "metadata": {},
     "output_type": "execute_result"
    }
   ],
   "source": [
    "x = 123f3              # have exponent Fxx - Float32\n",
    "(x, typeof(x))"
   ]
  },
  {
   "cell_type": "markdown",
   "metadata": {},
   "source": [
    "The **typeof()** function is extremely useful as it tells us the type of a value."
   ]
  },
  {
   "cell_type": "markdown",
   "metadata": {},
   "source": [
    "## Numeric literal coefficients\n",
    "\n",
    "Julia uses numeric literal coefficients to make an arithmetic expression look more similar to an algebraic equation.\n",
    "You can place a numeric literal immediately before (no white space allowed) a variable or a parenthesized expression.\n",
    "Julia will interpret it as an implied multiplication, this makes writing polynomials very clean:"
   ]
  },
  {
   "cell_type": "code",
   "execution_count": 12,
   "metadata": {},
   "outputs": [
    {
     "data": {
      "text/plain": [
       "16"
      ]
     },
     "execution_count": 12,
     "metadata": {},
     "output_type": "execute_result"
    }
   ],
   "source": [
    "x = 1\n",
    "y = 3x^2 - 5(x-2) + 8"
   ]
  }
 ],
 "metadata": {
  "kernelspec": {
   "display_name": "Julia 1.4.0",
   "language": "julia",
   "name": "julia-1.4"
  },
  "language_info": {
   "file_extension": ".jl",
   "mimetype": "application/julia",
   "name": "julia",
   "version": "1.4.0"
  }
 },
 "nbformat": 4,
 "nbformat_minor": 4
}
